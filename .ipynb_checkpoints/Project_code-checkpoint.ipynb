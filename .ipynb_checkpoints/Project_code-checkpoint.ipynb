{
 "cells": [
  {
   "cell_type": "markdown",
   "metadata": {
    "id": "DrcnEDvNbjiH"
   },
   "source": [
    "# Team Aero-Souls (Group 9)\n",
    "\n",
    "## Topic - Impact of covid on Aviation \n",
    "\n",
    "## Team Members :- \n",
    " - Sarthak Mehrotra - 200010068\n",
    " - Ajay Tak - 200010005\n",
    " - Utkarsh Dev - 200010082\n",
    " - Snehal Shangari - 200010079\n",
    " - Nikunj Bansal - 200010051\n",
    " - Unnati Markam - 200010081\n",
    " \n",
    " Link to the Video - https://drive.google.com/file/d/1vxPUB_bidqo6jVL9A9cwnLVNwfQ5ge1W/view?usp=sharing"
   ]
  },
  {
   "cell_type": "markdown",
   "metadata": {
    "id": "xMyK1YprcLoh"
   },
   "source": [
    "We have 2 Datasets regarding our topic, containing the Number of passengers and the Number of Aircrafts (that tookoff) \n",
    "- Year 2019 (Before Covid 19)\n",
    "- Year 2020 (After Covid 19)\n",
    "\n",
    "In this Notebook we will be analyzing the **Affect of Covid on Aviation within India**\n"
   ]
  },
  {
   "cell_type": "markdown",
   "metadata": {
    "id": "TSDlGMRWPw7Q"
   },
   "source": [
    "- correalation before and after covid times(relation between X1 and X2)\n",
    "- central limit theorem\n",
    "- t distribution\n",
    "- sample variance\n",
    "- hypothesis testing (p value, critical region)\n",
    "- regression"
   ]
  },
  {
   "cell_type": "code",
   "execution_count": 1,
   "metadata": {
    "id": "nCoulnUVPw7R"
   },
   "outputs": [],
   "source": [
    "import pandas as pd\n",
    "import numpy as np\n",
    "from scipy.stats import *\n",
    "from matplotlib import pyplot as plt\n",
    "from ipywidgets import interact"
   ]
  },
  {
   "cell_type": "code",
   "execution_count": 2,
   "metadata": {
    "id": "uQYY49s7Pw7R"
   },
   "outputs": [],
   "source": [
    "df2019 = pd.read_csv('2019.csv', index_col = 'Month')\n",
    "df2020 = pd.read_csv('2020.csv', index_col = 'Month')\n",
    "\n",
    "# df2019 = pd.read_csv('/content/2019.csv', index_col = 'Month')\n",
    "# df2020 = pd.read_csv('/content/2020.csv', index_col = 'Month')"
   ]
  },
  {
   "cell_type": "code",
   "execution_count": 3,
   "metadata": {
    "id": "biI_fM4Gz45n"
   },
   "outputs": [],
   "source": [
    "df2019.rename(columns = {'PAX  ':'No. of Passengers', 'Total PAX': 'No. of International passengers', 'No. of Aircrafts.1': 'No. of International Aircrafts'}, inplace = True)\n",
    "df2020.rename(columns = {'PAX  ':'No. of Passengers', 'Total PAX': 'No. of International passengers', 'No. of Aircrafts.1': 'No. of International Aircrafts'}, inplace = True)"
   ]
  },
  {
   "cell_type": "code",
   "execution_count": 4,
   "metadata": {
    "id": "OOhk0uK_Pw7T"
   },
   "outputs": [],
   "source": [
    "df2019_domestic = df2019[['No. of Passengers','No. of Aircrafts']]\n",
    "df2019_international = df2019[['No. of International passengers', 'No. of International Aircrafts']]\n",
    "\n",
    "df2020_domestic = df2020[['No. of Passengers','No. of Aircrafts']]\n",
    "df2020_international = df2020[['No. of International passengers', 'No. of International Aircrafts']]\n"
   ]
  },
  {
   "cell_type": "code",
   "execution_count": 5,
   "metadata": {
    "colab": {
     "base_uri": "https://localhost:8080/",
     "height": 265
    },
    "id": "ITLb-ePTkhLr",
    "outputId": "5142a0a6-8800-4cd0-e8e5-42c5b452f383"
   },
   "outputs": [
    {
     "data": {
      "image/png": "[encoded data removed]",
      "text/plain": [
       "<Figure size 432x288 with 1 Axes>"
      ]
     },
     "metadata": {
      "needs_background": "light"
     },
     "output_type": "display_data"
    }
   ],
   "source": [
    "x = df2019_domestic['No. of Aircrafts'].plot(kind = 'hist', density = True, bins = 5)"
   ]
  },
  {
   "cell_type": "markdown",
   "metadata": {
    "id": "Csc1JEuoe9g7"
   },
   "source": [
    "# Random Variables\n",
    "\n",
    "For our Project we have chosen 2 random variables:-\n",
    "- Number of Passengers\n",
    "- Number of Aircrafts"
   ]
  },
  {
   "cell_type": "markdown",
   "metadata": {
    "id": "2C7QKNTlfqoe"
   },
   "source": [
    "For these Random variables our population will be the data under the data frame **'df2019_domestic'** and  **'df2020_domestic'**"
   ]
  },
  {
   "cell_type": "code",
   "execution_count": 6,
   "metadata": {
    "colab": {
     "base_uri": "https://localhost:8080/",
     "height": 432
    },
    "id": "sflDjUGnVKMl",
    "outputId": "e53e8862-9591-4715-9b7e-633d8f624ee3"
   },
   "outputs": [
    {
     "data": {
      "text/html": [
       "<div>\n",
       "<style scoped>\n",
       "    .dataframe tbody tr th:only-of-type {\n",
       "        vertical-align: middle;\n",
       "    }\n",
       "\n",
       "    .dataframe tbody tr th {\n",
       "        vertical-align: top;\n",
       "    }\n",
       "\n",
       "    .dataframe thead th {\n",
       "        text-align: right;\n",
       "    }\n",
       "</style>\n",
       "<table border=\"1\" class=\"dataframe\">\n",
       "  <thead>\n",
       "    <tr style=\"text-align: right;\">\n",
       "      <th></th>\n",
       "      <th>No. of Passengers</th>\n",
       "      <th>No. of Aircrafts</th>\n",
       "      <th>No. of International passengers</th>\n",
       "      <th>No. of International Aircrafts</th>\n",
       "    </tr>\n",
       "    <tr>\n",
       "      <th>Month</th>\n",
       "      <th></th>\n",
       "      <th></th>\n",
       "      <th></th>\n",
       "      <th></th>\n",
       "    </tr>\n",
       "  </thead>\n",
       "  <tbody>\n",
       "    <tr>\n",
       "      <th>Jan</th>\n",
       "      <td>125.08</td>\n",
       "      <td>189.23</td>\n",
       "      <td>59.3</td>\n",
       "      <td>40.29</td>\n",
       "    </tr>\n",
       "    <tr>\n",
       "      <th>Feb</th>\n",
       "      <td>113.49</td>\n",
       "      <td>165.21</td>\n",
       "      <td>50.9</td>\n",
       "      <td>35.62</td>\n",
       "    </tr>\n",
       "    <tr>\n",
       "      <th>Mar</th>\n",
       "      <td>115.96</td>\n",
       "      <td>175.40</td>\n",
       "      <td>49.6</td>\n",
       "      <td>37.74</td>\n",
       "    </tr>\n",
       "    <tr>\n",
       "      <th>Apr</th>\n",
       "      <td>109.95</td>\n",
       "      <td>166.83</td>\n",
       "      <td>51.0</td>\n",
       "      <td>34.33</td>\n",
       "    </tr>\n",
       "    <tr>\n",
       "      <th>May</th>\n",
       "      <td>121.87</td>\n",
       "      <td>177.94</td>\n",
       "      <td>51.9</td>\n",
       "      <td>35.00</td>\n",
       "    </tr>\n",
       "    <tr>\n",
       "      <th>June</th>\n",
       "      <td>120.25</td>\n",
       "      <td>176.25</td>\n",
       "      <td>52.7</td>\n",
       "      <td>34.59</td>\n",
       "    </tr>\n",
       "    <tr>\n",
       "      <th>July</th>\n",
       "      <td>119.05</td>\n",
       "      <td>179.22</td>\n",
       "      <td>55.4</td>\n",
       "      <td>36.62</td>\n",
       "    </tr>\n",
       "    <tr>\n",
       "      <th>Aug</th>\n",
       "      <td>117.93</td>\n",
       "      <td>179.50</td>\n",
       "      <td>52.0</td>\n",
       "      <td>37.62</td>\n",
       "    </tr>\n",
       "    <tr>\n",
       "      <th>Sep</th>\n",
       "      <td>115.33</td>\n",
       "      <td>176.02</td>\n",
       "      <td>49.8</td>\n",
       "      <td>37.20</td>\n",
       "    </tr>\n",
       "    <tr>\n",
       "      <th>Oct</th>\n",
       "      <td>123.16</td>\n",
       "      <td>192.25</td>\n",
       "      <td>53.2</td>\n",
       "      <td>38.67</td>\n",
       "    </tr>\n",
       "    <tr>\n",
       "      <th>Nov</th>\n",
       "      <td>129.47</td>\n",
       "      <td>189.22</td>\n",
       "      <td>54.0</td>\n",
       "      <td>38.71</td>\n",
       "    </tr>\n",
       "    <tr>\n",
       "      <th>Dec</th>\n",
       "      <td>130.18</td>\n",
       "      <td>184.20</td>\n",
       "      <td>57.6</td>\n",
       "      <td>40.35</td>\n",
       "    </tr>\n",
       "  </tbody>\n",
       "</table>\n",
       "</div>"
      ],
      "text/plain": [
       "       No. of Passengers  No. of Aircrafts  No. of International passengers  \\\n",
       "Month                                                                         \n",
       "Jan               125.08            189.23                             59.3   \n",
       "Feb               113.49            165.21                             50.9   \n",
       "Mar               115.96            175.40                             49.6   \n",
       "Apr               109.95            166.83                             51.0   \n",
       "May               121.87            177.94                             51.9   \n",
       "June              120.25            176.25                             52.7   \n",
       "July              119.05            179.22                             55.4   \n",
       "Aug               117.93            179.50                             52.0   \n",
       "Sep               115.33            176.02                             49.8   \n",
       "Oct               123.16            192.25                             53.2   \n",
       "Nov               129.47            189.22                             54.0   \n",
       "Dec               130.18            184.20                             57.6   \n",
       "\n",
       "       No. of International Aircrafts  \n",
       "Month                                  \n",
       "Jan                             40.29  \n",
       "Feb                             35.62  \n",
       "Mar                             37.74  \n",
       "Apr                             34.33  \n",
       "May                             35.00  \n",
       "June                            34.59  \n",
       "July                            36.62  \n",
       "Aug                             37.62  \n",
       "Sep                             37.20  \n",
       "Oct                             38.67  \n",
       "Nov                             38.71  \n",
       "Dec                             40.35  "
      ]
     },
     "execution_count": 6,
     "metadata": {},
     "output_type": "execute_result"
    }
   ],
   "source": [
    "df2019"
   ]
  },
  {
   "cell_type": "code",
   "execution_count": 7,
   "metadata": {
    "colab": {
     "base_uri": "https://localhost:8080/",
     "height": 432
    },
    "id": "2s3ccv9ffqK5",
    "outputId": "d727c75d-3df5-46bb-c84a-6e08444b50ed"
   },
   "outputs": [
    {
     "data": {
      "text/html": [
       "<div>\n",
       "<style scoped>\n",
       "    .dataframe tbody tr th:only-of-type {\n",
       "        vertical-align: middle;\n",
       "    }\n",
       "\n",
       "    .dataframe tbody tr th {\n",
       "        vertical-align: top;\n",
       "    }\n",
       "\n",
       "    .dataframe thead th {\n",
       "        text-align: right;\n",
       "    }\n",
       "</style>\n",
       "<table border=\"1\" class=\"dataframe\">\n",
       "  <thead>\n",
       "    <tr style=\"text-align: right;\">\n",
       "      <th></th>\n",
       "      <th>No. of Passengers</th>\n",
       "      <th>No. of Aircrafts</th>\n",
       "    </tr>\n",
       "    <tr>\n",
       "      <th>Month</th>\n",
       "      <th></th>\n",
       "      <th></th>\n",
       "    </tr>\n",
       "  </thead>\n",
       "  <tbody>\n",
       "    <tr>\n",
       "      <th>Jan</th>\n",
       "      <td>127.83</td>\n",
       "      <td>195.21</td>\n",
       "    </tr>\n",
       "    <tr>\n",
       "      <th>Feb</th>\n",
       "      <td>123.68</td>\n",
       "      <td>185.93</td>\n",
       "    </tr>\n",
       "    <tr>\n",
       "      <th>Mar</th>\n",
       "      <td>77.62</td>\n",
       "      <td>142.07</td>\n",
       "    </tr>\n",
       "    <tr>\n",
       "      <th>Apr</th>\n",
       "      <td>0.10</td>\n",
       "      <td>2.92</td>\n",
       "    </tr>\n",
       "    <tr>\n",
       "      <th>May</th>\n",
       "      <td>2.81</td>\n",
       "      <td>12.40</td>\n",
       "    </tr>\n",
       "    <tr>\n",
       "      <th>June</th>\n",
       "      <td>19.84</td>\n",
       "      <td>50.50</td>\n",
       "    </tr>\n",
       "    <tr>\n",
       "      <th>July</th>\n",
       "      <td>21.07</td>\n",
       "      <td>56.45</td>\n",
       "    </tr>\n",
       "    <tr>\n",
       "      <th>Aug</th>\n",
       "      <td>28.32</td>\n",
       "      <td>64.53</td>\n",
       "    </tr>\n",
       "    <tr>\n",
       "      <th>Sep</th>\n",
       "      <td>39.43</td>\n",
       "      <td>86.01</td>\n",
       "    </tr>\n",
       "    <tr>\n",
       "      <th>Oct</th>\n",
       "      <td>52.71</td>\n",
       "      <td>106.45</td>\n",
       "    </tr>\n",
       "    <tr>\n",
       "      <th>Nov</th>\n",
       "      <td>63.54</td>\n",
       "      <td>115.60</td>\n",
       "    </tr>\n",
       "    <tr>\n",
       "      <th>Dec</th>\n",
       "      <td>73.27</td>\n",
       "      <td>136.05</td>\n",
       "    </tr>\n",
       "  </tbody>\n",
       "</table>\n",
       "</div>"
      ],
      "text/plain": [
       "       No. of Passengers  No. of Aircrafts\n",
       "Month                                     \n",
       "Jan               127.83            195.21\n",
       "Feb               123.68            185.93\n",
       "Mar                77.62            142.07\n",
       "Apr                 0.10              2.92\n",
       "May                 2.81             12.40\n",
       "June               19.84             50.50\n",
       "July               21.07             56.45\n",
       "Aug                28.32             64.53\n",
       "Sep                39.43             86.01\n",
       "Oct                52.71            106.45\n",
       "Nov                63.54            115.60\n",
       "Dec                73.27            136.05"
      ]
     },
     "execution_count": 7,
     "metadata": {},
     "output_type": "execute_result"
    }
   ],
   "source": [
    "df2020_domestic"
   ]
  },
  {
   "cell_type": "markdown",
   "metadata": {
    "id": "7jVC43lyfLdd"
   },
   "source": [
    "# Correlation between our Random Variables"
   ]
  },
  {
   "cell_type": "code",
   "execution_count": 8,
   "metadata": {
    "colab": {
     "base_uri": "https://localhost:8080/",
     "height": 106
    },
    "id": "v5kmqjWEPw7U",
    "outputId": "6d47b070-4ab7-4789-b914-6ee30889c2dc"
   },
   "outputs": [
    {
     "data": {
      "text/html": [
       "<div>\n",
       "<style scoped>\n",
       "    .dataframe tbody tr th:only-of-type {\n",
       "        vertical-align: middle;\n",
       "    }\n",
       "\n",
       "    .dataframe tbody tr th {\n",
       "        vertical-align: top;\n",
       "    }\n",
       "\n",
       "    .dataframe thead th {\n",
       "        text-align: right;\n",
       "    }\n",
       "</style>\n",
       "<table border=\"1\" class=\"dataframe\">\n",
       "  <thead>\n",
       "    <tr style=\"text-align: right;\">\n",
       "      <th></th>\n",
       "      <th>No. of Passengers</th>\n",
       "      <th>No. of Aircrafts</th>\n",
       "    </tr>\n",
       "  </thead>\n",
       "  <tbody>\n",
       "    <tr>\n",
       "      <th>No. of Passengers</th>\n",
       "      <td>1.000000</td>\n",
       "      <td>0.986495</td>\n",
       "    </tr>\n",
       "    <tr>\n",
       "      <th>No. of Aircrafts</th>\n",
       "      <td>0.986495</td>\n",
       "      <td>1.000000</td>\n",
       "    </tr>\n",
       "  </tbody>\n",
       "</table>\n",
       "</div>"
      ],
      "text/plain": [
       "                   No. of Passengers  No. of Aircrafts\n",
       "No. of Passengers           1.000000          0.986495\n",
       "No. of Aircrafts            0.986495          1.000000"
      ]
     },
     "execution_count": 8,
     "metadata": {},
     "output_type": "execute_result"
    }
   ],
   "source": [
    "df2020_domestic.corr()"
   ]
  },
  {
   "cell_type": "markdown",
   "metadata": {
    "id": "jzuH4JqhdgQX"
   },
   "source": [
    "In the above cell as we can see the Planes flew with less number of passengers, the number of planes are closely related to the number of passengers."
   ]
  },
  {
   "cell_type": "code",
   "execution_count": 9,
   "metadata": {
    "colab": {
     "base_uri": "https://localhost:8080/",
     "height": 106
    },
    "id": "GF1O3D79dz6C",
    "outputId": "08cf8414-9e18-42bb-85d1-1fad767f950e"
   },
   "outputs": [
    {
     "data": {
      "text/html": [
       "<div>\n",
       "<style scoped>\n",
       "    .dataframe tbody tr th:only-of-type {\n",
       "        vertical-align: middle;\n",
       "    }\n",
       "\n",
       "    .dataframe tbody tr th {\n",
       "        vertical-align: top;\n",
       "    }\n",
       "\n",
       "    .dataframe thead th {\n",
       "        text-align: right;\n",
       "    }\n",
       "</style>\n",
       "<table border=\"1\" class=\"dataframe\">\n",
       "  <thead>\n",
       "    <tr style=\"text-align: right;\">\n",
       "      <th></th>\n",
       "      <th>No. of Passengers</th>\n",
       "      <th>No. of Aircrafts</th>\n",
       "    </tr>\n",
       "  </thead>\n",
       "  <tbody>\n",
       "    <tr>\n",
       "      <th>No. of Passengers</th>\n",
       "      <td>1.000000</td>\n",
       "      <td>0.839063</td>\n",
       "    </tr>\n",
       "    <tr>\n",
       "      <th>No. of Aircrafts</th>\n",
       "      <td>0.839063</td>\n",
       "      <td>1.000000</td>\n",
       "    </tr>\n",
       "  </tbody>\n",
       "</table>\n",
       "</div>"
      ],
      "text/plain": [
       "                   No. of Passengers  No. of Aircrafts\n",
       "No. of Passengers           1.000000          0.839063\n",
       "No. of Aircrafts            0.839063          1.000000"
      ]
     },
     "execution_count": 9,
     "metadata": {},
     "output_type": "execute_result"
    }
   ],
   "source": [
    "df2019_domestic.corr()"
   ]
  },
  {
   "cell_type": "markdown",
   "metadata": {
    "id": "F7cViHQKeKgm"
   },
   "source": [
    "In the above cell the coorelation is lesser than that in 2020 as in 2019. There were approximately 200-300 passengers in each flight on an average while lesser in some flights. while in 2020 almost all the flights had similar number of passengers\n",
    "\n"
   ]
  },
  {
   "cell_type": "markdown",
   "metadata": {
    "id": "ksnQSQ1Qi1iJ"
   },
   "source": [
    "# True Parameter Distribution \n",
    "\n",
    "- Since We have only 12 databoints for our random variable it is dificulat to determine the True Distribution\n"
   ]
  },
  {
   "cell_type": "code",
   "execution_count": 10,
   "metadata": {
    "colab": {
     "base_uri": "https://localhost:8080/",
     "height": 346,
     "referenced_widgets": [
      "e4cd13027b8a41529fdcc9dd6432ca67",
      "59ca56fac3bd4691b991bb04329b5966",
      "ed28c453ab064f738633461a6b2c691a",
      "bd1a2fe9aec849a4a30cbc8e28548df0",
      "bbb56f60e46c4cee87236da25333bce1",
      "d82d46bda30a4e2081712ef08f54453e",
      "e4ba4480f2214a8ab19d71a19abe819c",
      "4990910aeed04b06bded8b3aea6b1008",
      "8afd4bd869624cd59b51a2aae3e24b64",
      "718395d03d9b45f6bfda7bf5e3da5a0e"
     ]
    },
    "id": "x5H-nacooCpv",
    "outputId": "422864c3-a1a8-4548-b5fa-46e4ec13980f"
   },
   "outputs": [
    {
     "data": {
      "application/vnd.jupyter.widget-view+json": {
       "model_id": "50a8c6fd335c4413a9639eab80743d5e",
       "version_major": 2,
       "version_minor": 0
      },
      "text/plain": [
       "interactive(children=(Dropdown(description='year', options=('2019', '2020'), value='2019'), Dropdown(descripti…"
      ]
     },
     "metadata": {},
     "output_type": "display_data"
    },
    {
     "data": {
      "text/plain": [
       "<function __main__.hist(year='2019', interest='No. of Passengers')>"
      ]
     },
     "execution_count": 10,
     "metadata": {},
     "output_type": "execute_result"
    }
   ],
   "source": [
    "interest = ['No. of Passengers', 'No. of Aircrafts']\n",
    "year = ['2019', '2020']\n",
    "\n",
    "def hist(year = '2019', interest = 'No. of Passengers'):\n",
    "    if(year == '2019'):\n",
    "        plt.hist(df2019_domestic[interest])\n",
    "    else:\n",
    "        plt.hist(df2020_domestic[interest])\n",
    "\n",
    "interact(hist,year = year, interest = interest)"
   ]
  },
  {
   "cell_type": "markdown",
   "metadata": {
    "id": "uGxtRewipJta"
   },
   "source": [
    "#Joint Distribution"
   ]
  },
  {
   "cell_type": "code",
   "execution_count": 11,
   "metadata": {
    "colab": {
     "base_uri": "https://localhost:8080/",
     "height": 799
    },
    "id": "tv4nbQFMpJQy",
    "outputId": "00985c9c-0361-46d2-e198-8a1e2bebd18f"
   },
   "outputs": [
    {
     "data": {
      "image/png": "[encoded data removed]",
      "text/plain": [
       "<Figure size 576x576 with 1 Axes>"
      ]
     },
     "metadata": {
      "needs_background": "light"
     },
     "output_type": "display_data"
    },
    {
     "data": {
      "image/png": "[encoded data removed]",
      "text/plain": [
       "<Figure size 360x360 with 2 Axes>"
      ]
     },
     "metadata": {
      "needs_background": "light"
     },
     "output_type": "display_data"
    }
   ],
   "source": [
    "x = df2019_domestic['No. of Passengers'] \n",
    "y = df2019_domestic['No. of Aircrafts']\n",
    "\n",
    "fig = plt.figure(figsize = (8,8))         \n",
    "ax = fig.add_subplot(111, projection='3d')\n",
    "\n",
    "\n",
    "hist, xedges, yedges = np.histogram2d(x, y, bins=(20,20))\n",
    "xpos, ypos = np.meshgrid(xedges[:-1]+xedges[1:], yedges[:-1]+yedges[1:])\n",
    "\n",
    "xpos = xpos.flatten()/2.\n",
    "ypos = ypos.flatten()/2.\n",
    "zpos = np.zeros_like (xpos)\n",
    "\n",
    "dx = xedges [1] - xedges [0]\n",
    "dy = yedges [1] - yedges [0]\n",
    "dz = hist.flatten()\n",
    "\n",
    "max_height = np.max(dz)   \n",
    "min_height = np.min(dz)\n",
    "\n",
    "\n",
    "ax.bar3d(xpos, ypos, zpos, dx, dy, dz, zsort='average', shade = True, color = 'orange')\n",
    "plt.title(\"Joint Distribution in 3D\")\n",
    "plt.xlabel(\"No. of Passengers\")\n",
    "plt.ylabel(\"No. of Aircrafts\")\n",
    "plt.show()\n",
    "\n",
    "plt.figure(2, figsize=(5,5))\n",
    "plt.hist2d(df2020_domestic['No. of Aircrafts'], df2020_domestic['No. of Passengers'], bins = [10,10]);\n",
    "plt.title(\"Joint Distribution in 2D\")\n",
    "plt.xlabel(\"No. of Passengers\")\n",
    "plt.ylabel(\"No. of Aircrafts\")\n",
    "plt.colorbar()\n",
    "plt.show()"
   ]
  },
  {
   "cell_type": "code",
   "execution_count": 12,
   "metadata": {
    "colab": {
     "base_uri": "https://localhost:8080/",
     "height": 386
    },
    "id": "X2M6ka5xvnPk",
    "outputId": "cb391ae3-6622-4105-8b52-a2538dee7e47"
   },
   "outputs": [
    {
     "data": {
      "text/plain": [
       "<seaborn.axisgrid.FacetGrid at 0x21450418a60>"
      ]
     },
     "execution_count": 12,
     "metadata": {},
     "output_type": "execute_result"
    },
    {
     "data": {
      "image/png": "[encoded data removed]",
      "text/plain": [
       "<Figure size 360x360 with 1 Axes>"
      ]
     },
     "metadata": {
      "needs_background": "light"
     },
     "output_type": "display_data"
    }
   ],
   "source": [
    "import seaborn as sns\n",
    "sns.displot(x = df2020_domestic['No. of Aircrafts'], y = df2020_domestic['No. of Passengers'], kind=\"kde\")"
   ]
  },
  {
   "cell_type": "markdown",
   "metadata": {
    "id": "ddpyJP5IwheE"
   },
   "source": [
    "# Computing Population parameters"
   ]
  },
  {
   "cell_type": "code",
   "execution_count": 13,
   "metadata": {
    "colab": {
     "base_uri": "https://localhost:8080/",
     "height": 131,
     "referenced_widgets": [
      "eefe0e43ede94d5bb589a40f9efc1f53",
      "b798f48f03314ab28965215996ee79d3",
      "2fe7aaa4b71c41588d0990ed854ebd9d",
      "a48703bddf8b4f2b8ac939103c1cf0e0",
      "6fa7709fc80147efad7e23954ba9ccb0",
      "b2384f6fbc31455cb17850fb8ea2b8b1",
      "882e8d29401d4f95bc8b6233ef39b478",
      "3b063ad907a149a1b5385f5d74e4a3a9",
      "5f70d37488ec4950a1055207e847a0a0",
      "8fce6aaebed44e8fbf6ef39cd41e1bd7"
     ]
    },
    "id": "MdAuoMXgwkk0",
    "outputId": "84df9782-9419-4413-9611-bf562d7626cc"
   },
   "outputs": [
    {
     "data": {
      "application/vnd.jupyter.widget-view+json": {
       "model_id": "16df2f81ffbf4289bd4251128f0293c1",
       "version_major": 2,
       "version_minor": 0
      },
      "text/plain": [
       "interactive(children=(Dropdown(description='interest', options=('No. of Passengers', 'No. of Aircrafts'), valu…"
      ]
     },
     "metadata": {},
     "output_type": "display_data"
    }
   ],
   "source": [
    "interest = ['No. of Passengers', 'No. of Aircrafts']\n",
    "year = ['2019', '2020']\n",
    "\n",
    "\n",
    "def population_param(interest = 'No. of Passengers', year = '2019'):\n",
    "    if (year == '2019'):\n",
    "        x = df2019_domestic[interest].to_numpy()\n",
    "    else: \n",
    "        x = df2020_domestic[interest].to_numpy()\n",
    "    print()\n",
    "    print(f'True Mean for the selected data is {x.mean()}')\n",
    "    print(f'True Variance for the selected data is {x.var()}')\n",
    "\n",
    "interact(population_param, year = year, interest = interest);"
   ]
  },
  {
   "cell_type": "markdown",
   "metadata": {
    "id": "1nVVW0NEgJ5t"
   },
   "source": [
    "# Generating Sampling Distributions for the year 2019 and 2020 of our 2 random variables\n",
    "\n",
    "Here we use the interact widget to view the Sampling Distributions for our random vriables for the 2 years."
   ]
  },
  {
   "cell_type": "code",
   "execution_count": 14,
   "metadata": {
    "colab": {
     "base_uri": "https://localhost:8080/",
     "height": 703,
     "referenced_widgets": [
      "84be5d8a396042da984c55686105df54",
      "3f6202afe3244e56a3dfed8e62412c17",
      "bf923676c36d484cbe7de6bd075bb753",
      "aacb4d29467247fe8f78b379588627d2",
      "6a0ac118daf442fe980c6267ef553f35",
      "d195eda7fed14701a8f171fa5741fa01",
      "4d95cd9fb4cd4025918a8847adc05409",
      "89720322eee94101970fb9f70d1aadf0",
      "91fd124b9931441c997734865bb3f2f4",
      "93231538d21543d495b229710f7fbbc0",
      "7216ced45fbf47c388b1ce756e7826c4",
      "a2964af732d04fd29c141018407c2888",
      "0ac4d235751044a0b6830e07ec976562"
     ]
    },
    "id": "K2XFCXCaPw7W",
    "outputId": "75c87dc4-a87a-4496-d35f-0d1edf3bf8ed"
   },
   "outputs": [
    {
     "data": {
      "application/vnd.jupyter.widget-view+json": {
       "model_id": "586f3d3beb714bcc9518418c07e9dc75",
       "version_major": 2,
       "version_minor": 0
      },
      "text/plain": [
       "interactive(children=(Dropdown(description='year', options=('2019', '2020'), value='2019'), Dropdown(descripti…"
      ]
     },
     "metadata": {},
     "output_type": "display_data"
    }
   ],
   "source": [
    "def sample_variance(x, sample_size):\n",
    "    sample_var = []\n",
    "    for i in range(1000):\n",
    "        x_sample = np.random.choice(x, size = sample_size)\n",
    "        sample_var.append((1/(sample_size-1))*(np.sum((x_sample.mean() - x_sample)**2)))\n",
    "    return np.array(sample_var)\n",
    "\n",
    "def sample_mean(x, sample_size):\n",
    "    return np.array([(np.random.choice(x, size = sample_size)).mean() for i in range(1000)])\n",
    "\n",
    "def plot_sample_var(year = '2019', interest = 'No. of passengers',sample_size = 100):\n",
    "    if (year == '2019' ):\n",
    "       x = (df2019_domestic[interest].to_numpy()/30).repeat(30)\n",
    "    else:\n",
    "        x = (df2020_domestic[interest].to_numpy()/30).repeat(30)\n",
    "\n",
    "    df = sample_size - 1\n",
    "    true_std = x.std()\n",
    "    sample_m = sample_mean(x, sample_size = sample_size)\n",
    "    sample_var = sample_variance(x, sample_size)\n",
    "    chi_var = (df)*sample_var/true_std\n",
    "    plt.figure(figsize = (10,10))\n",
    "\n",
    "    plt.subplot(2,1,2)\n",
    "    plt.hist(chi_var, density = True, bins=20)\n",
    "    rv1 = chi2(df = df)\n",
    "    x1 = np.linspace(rv1.ppf(0.001),rv1.ppf(0.999))\n",
    "    plt.plot(x1, rv1.pdf(x1))\n",
    "    plt.legend(['$\\chi$2', 'Sample Variance'])\n",
    "    plt.title(f'Sampling Distribution of Sample Variance of {interest}')\n",
    "\n",
    "    plt.subplot(2,1,1)\n",
    "    plt.hist(sample_m, density = True, bins = 30)\n",
    "    rv3 = norm(loc = sample_m.mean(), scale = sample_m.std())\n",
    "    x3 = np.linspace(rv3.ppf(0.001),rv3.ppf(0.999))\n",
    "    plt.plot(x3, rv3.pdf(x3), 'r')\n",
    "    plt.legend(['Normal DIstribution', 'Sample Mean'])\n",
    "    plt.title(f'Sampling Distribution of Sample Mean of {interest}')\n",
    "\n",
    "\n",
    "\n",
    "\n",
    "\n",
    "\n",
    "interact(plot_sample_var,  year = year, interest = interest, sample_size = (100, 200));"
   ]
  },
  {
   "cell_type": "markdown",
   "metadata": {
    "id": "GhAqpowwif6w"
   },
   "source": [
    "# Reason for $\\chi$2 not matching: \n",
    "\n",
    "The reason is that the true pdf of the random variable is not normally distributed, so distribution of sample variance doesn't match with $\\chi$2 distrbution.\n",
    "\n",
    "\n"
   ]
  },
  {
   "cell_type": "markdown",
   "metadata": {
    "id": "p_U4-223i8Yj"
   },
   "source": [
    "#Computing Point Estimates (Sample Mean and Sample Variance)"
   ]
  },
  {
   "cell_type": "code",
   "execution_count": 15,
   "metadata": {
    "colab": {
     "base_uri": "https://localhost:8080/",
     "height": 197,
     "referenced_widgets": [
      "500afccdd1dc442a9954d1924986fa02",
      "ad47ce5c82fa436d9e5155fc41f085cb",
      "bbcf2f9d0d984338a7a044c4bdaab06f",
      "daff90f23d5e4e3f94053f5ef4547436",
      "2db7a5511c4b4b6c9ea68768f6de38d5",
      "a8f3b3d6737f418e9a3f4e0f2d8e1145",
      "7133fce321fc4a5dbd822c6d56d969e3",
      "16187d62c60a41479329945526afbbd2",
      "8531850b10d24b68bb29003e6e346c90",
      "714908cd9b214626a3d6fb9aec4415ab",
      "bedbdce688f344e2a41b8f7aec17ade0",
      "55faa600abae4acf8a4709c2802111d0",
      "98d6014406824e69a226775acd580376"
     ]
    },
    "id": "OeyKLyZzj2kX",
    "outputId": "7b1eeb85-57b6-41ae-e324-9f9b5218e731"
   },
   "outputs": [
    {
     "data": {
      "application/vnd.jupyter.widget-view+json": {
       "model_id": "2b63bcb7519e4604884e93276522cdcc",
       "version_major": 2,
       "version_minor": 0
      },
      "text/plain": [
       "interactive(children=(Dropdown(description='interest', options=('No. of Passengers', 'No. of Aircrafts'), valu…"
      ]
     },
     "metadata": {},
     "output_type": "display_data"
    }
   ],
   "source": [
    "#sample mean and sample variance\n",
    "def compute_point_est(interest = 'No. of Passengers', year = '2019',sample_size = 6):\n",
    "    if (year == '2019'):\n",
    "        x = df2019_domestic[interest].to_numpy()\n",
    "    else: \n",
    "        x = df2020_domestic[interest].to_numpy()\n",
    "    sample_m = sample_mean(x, sample_size).mean()\n",
    "    sample_var = sample_variance(x, sample_size).mean()\n",
    "    print(f'Sample mean: {sample_m}')\n",
    "    print(f'True mean: {x.mean()}')\n",
    "    print()\n",
    "    print(f'Sample variance: {sample_var}')\n",
    "    print(f'True Variance: {x.var()}')\n",
    "\n",
    "interact(compute_point_est, interest = interest, year = year, sample_size = (3, 12));"
   ]
  },
  {
   "cell_type": "markdown",
   "metadata": {
    "id": "SLxQTy6LpFv0"
   },
   "source": [
    "# Computing Interval Estimates"
   ]
  },
  {
   "cell_type": "code",
   "execution_count": 16,
   "metadata": {
    "colab": {
     "base_uri": "https://localhost:8080/",
     "height": 163,
     "referenced_widgets": [
      "e8afed7dfc7245af96ca5acc9185a1a5",
      "73b5d748f03a4be7b3a02d3cdf632982",
      "a7ad20173a524a33bafdf70088ec3a0c",
      "57e5c406fef04c93812c12fd16a65f02",
      "7d525eaab83e4892be361a5901c1cd92",
      "f97ea7e68a494afb947fa1146e4dd293",
      "519b5351111a4b32b38ee0a67a944c43",
      "83870ef9c3bc4b7caad66ce21685bbf1",
      "db47340f98c448299251365d5d3f0eb5",
      "9b873b364d2349a1a96b312d041cfedb",
      "2a531623e6914110b41bda201b8bc155",
      "2d1f0052bf864b33b0651de5828beb0a",
      "e22cf7bb80f84c1192728feb4f472fcb"
     ]
    },
    "id": "_CM7zOJmpFU8",
    "outputId": "a2cafc47-2580-4a0d-9798-c998995fa850"
   },
   "outputs": [
    {
     "data": {
      "application/vnd.jupyter.widget-view+json": {
       "model_id": "41a6932274b140eba8fd463ccef6e425",
       "version_major": 2,
       "version_minor": 0
      },
      "text/plain": [
       "interactive(children=(Dropdown(description='interest', options=('No. of Passengers', 'No. of Aircrafts'), valu…"
      ]
     },
     "metadata": {},
     "output_type": "display_data"
    },
    {
     "data": {
      "text/plain": [
       "<function __main__.confidence_intervals(interest='No. of Passengers', year='2019', sample_size=6)>"
      ]
     },
     "execution_count": 16,
     "metadata": {},
     "output_type": "execute_result"
    }
   ],
   "source": [
    "def interval(sample_m, sample_var, sample_size):\n",
    "    rv = norm()\n",
    "    z = rv.ppf(0.975) \n",
    "    min = sample_m - (z)*np.sqrt(sample_var/sample_size)\n",
    "    max = sample_m + (z)*np.sqrt(sample_var/sample_size)\n",
    "    return [min, max]\n",
    "\n",
    "def confidence_intervals(interest = 'No. of Passengers', year = '2019',sample_size = 6):\n",
    "    \n",
    "    if (year == '2019'):\n",
    "        x = df2019_domestic[interest].to_numpy()\n",
    "    else: \n",
    "        x = df2020_domestic[interest].to_numpy()\n",
    "    s = np.random.choice(x, size = sample_size)\n",
    "    sample_var = sample_variance(x, sample_size)\n",
    "\n",
    "    ci_mean = np.array(interval(s.mean(),s.var(), sample_size))\n",
    "    ci_variance = np.percentile(sample_var, [2.5, 97.5])\n",
    "    print(f'95% Confidence Intervals for Sample Mean is {ci_mean[0]} - {ci_mean[1]}')  \n",
    "    print(f'95% Confidence Intervals for Sample Variance is {ci_variance[0]} - {ci_variance[1]}')\n",
    "\n",
    "interact(confidence_intervals, interest = interest, year = year, sample_size = (3,12))\n"
   ]
  },
  {
   "cell_type": "code",
   "execution_count": 17,
   "metadata": {
    "id": "8v1Hjr7LYpTD"
   },
   "outputs": [],
   "source": [
    "month = {1:'January',\n",
    "\t\t2:'February',\n",
    "\t\t3:'March',\n",
    "\t\t4:'April',\n",
    "\t\t5:'May',\n",
    "\t\t6:'June',\n",
    "\t\t7:'July',\n",
    "\t\t8:'August',\n",
    "\t\t9:'September',\n",
    "\t\t10:'October',\n",
    "\t\t11:'November',\n",
    "\t    12:'December'}"
   ]
  },
  {
   "cell_type": "markdown",
   "metadata": {
    "id": "EBpvvIKW3nsD"
   },
   "source": [
    "# Hypothesis Testing\n",
    "\n",
    "Let $X$ be the distribution for year 2019 (before Covid) and $Y$ be for the year 2020 (after Covid) .\n",
    "\n",
    "We will be using the DIstribution with known variance: \n",
    "\n",
    " $\\frac{\\bar{X}-\\bar{Y}}{\\sqrt(\\frac{(\\sigma^2)x}{n}+\\frac{(\\sigma^2)y}{m})}$\n",
    "\n",
    "## Hypothesis 1: For Number of Passengers\n",
    "- Let $\\mu$x be the mean of $X$ and $\\mu$y be the mean of $Y$\n",
    "    -  $H0$ =  $\\mu$x = $\\mu$y (Null Hypothesis)\n",
    "    - $H1$ = $\\mu$x > $\\mu$y (Alternate Hypothesis)\n",
    "    - We are choosing one sided test as we have an idea that there will be a negative effect due to covid \n",
    "    - We are going to be looking at the data quaterwise since in January - March covid had started spreading and from April onwards we had lockdown."
   ]
  },
  {
   "cell_type": "code",
   "execution_count": 18,
   "metadata": {
    "colab": {
     "base_uri": "https://localhost:8080/",
     "height": 1000
    },
    "id": "QbYGGq-S1KUE",
    "outputId": "c76b4c8d-74ad-4694-e7c2-7ee8d48dafd6"
   },
   "outputs": [
    {
     "data": {
      "image/png": "[encoded data removed]",
      "text/plain": [
       "<Figure size 720x360 with 1 Axes>"
      ]
     },
     "metadata": {
      "needs_background": "light"
     },
     "output_type": "display_data"
    },
    {
     "data": {
      "image/png": "[encoded data removed]",
      "text/plain": [
       "<Figure size 720x360 with 1 Axes>"
      ]
     },
     "metadata": {
      "needs_background": "light"
     },
     "output_type": "display_data"
    },
    {
     "data": {
      "image/png": "[encoded data removed]",
      "text/plain": [
       "<Figure size 720x360 with 1 Axes>"
      ]
     },
     "metadata": {
      "needs_background": "light"
     },
     "output_type": "display_data"
    },
    {
     "data": {
      "image/png": "[encoded data removed]",
      "text/plain": [
       "<Figure size 720x360 with 1 Axes>"
      ]
     },
     "metadata": {
      "needs_background": "light"
     },
     "output_type": "display_data"
    }
   ],
   "source": [
    "def plot_hypothesis(column, alpha = 0.05):\n",
    "    colors = ['r', 'b', 'g', 'orange']\n",
    "\n",
    "    for i in range(0,12,3):\n",
    "        x1  = (df2019_domestic[column]).to_numpy()[i:i+3]\n",
    "        y1  = (df2020_domestic[column]).to_numpy()[i:i+3]\n",
    "        true_mean_x1 = x1.mean()\n",
    "        true_mean_y1 = y1.mean()\n",
    "        true_var_x1 = x1.var()\n",
    "        true_var_y1 = y1.var()\n",
    "\n",
    "        scale = np.sqrt((true_var_y1/len(y1))+(true_var_y1/len(x1)))\n",
    "        rv_test = norm(loc = 0, scale = scale)\n",
    "\n",
    "        x = np.linspace(rv_test.ppf(1e-5), rv_test.ppf(0.999999999999))\n",
    "        plt.figure((i//3)+1, figsize=(10,5))\n",
    "        plt.plot(x, rv_test.pdf(x), colors[i//3])\n",
    "        plt.vlines(true_mean_x1-true_mean_y1, 0, 0.04)\n",
    "        plt.title(f'Months: {month[i+1]} to {month[i+3]}')\n",
    "        plt.annotate(f'The value of our test statistic is {true_mean_x1-true_mean_y1:.2f}', xy = (21, 0.035))\n",
    "        plt.annotate(f'For \\u03B1 = {alpha}', xy = (21, 0.029)) \n",
    "        p_value = 1-rv_test.cdf(true_mean_x1-true_mean_y1)\n",
    "        plt.vlines(rv_test.ppf(1-alpha), 0, 0.04, colors[i//3])\n",
    "        plt.annotate(f'\\u03A1_value = {p_value:.6f}', xy = (21, 0.025))\n",
    "        if (p_value > alpha):\n",
    "            plt.annotate(f'As \\u03A1_value > \\u03B1 we are not able to reject ',xy = (21, 0.020))\n",
    "            plt.annotate(f'our null hypothesis for the Month {month[i+1]} - {month[i+3]}', xy = (21, 0.015))\n",
    "        else:\n",
    "            plt.annotate(f'As \\u03A1_value < \\u03B1 we are rejecting ',xy = (21, 0.020))\n",
    "            plt.annotate(f'our null hypothesis for the Month {month[i+1]} - {month[i+3]}', xy = (21, 0.015))\n",
    "        plt.xlabel(r'$\\bar{X}$ - $\\bar{Y}$', fontsize = 20)\n",
    "        \n",
    "column = ['No. of Passengers', 'No. of Aircrafts']\n",
    "plot_hypothesis('No. of Passengers')\n",
    "\n",
    "\n"
   ]
  },
  {
   "cell_type": "markdown",
   "metadata": {
    "id": "78bi5R-d5ZSQ"
   },
   "source": [
    "# Conclusion\n",
    "- Comparing 2020 to 2019\n",
    "    - We can notice that as in **January to March** covid had just started, the effect was less and our test statistic doesn't lies in the critical region.\n",
    "\n",
    "    - For **April to June** since there was lockdown the test statistic is really far from the mean, stating that the effect due to covid was significant and huge.\n",
    "\n",
    "    - For **July to September** since the lockdown was slightly reduced we can see that the test statistic is closer than the prvious graph showing that people started travelling\n",
    "\n",
    "    - For **October to December** some people started travelling and hence the test statistic is even more closer to 0 than the previous graph.\n",
    "\n",
    "\n",
    "\n"
   ]
  },
  {
   "cell_type": "markdown",
   "metadata": {
    "id": "60is_cgA5ZOr"
   },
   "source": [
    " ## Hypothesis 2: For the Number of Aeroplanes:\n",
    " - Let $\\mu$x be the mean of $X$ and $\\mu$y be the mean of $Y$\n",
    "    -  $H0$ =  $\\mu$x = $\\mu$y (Null Hypothesis)\n",
    "    - $H1$ = $\\mu$x > $\\mu$y (Alternate Hypothesis)\n",
    "    - We are choosing one sided test as we have an idea that there will be a negative effect due to covid\n",
    "    - We are going to be looking at the data quaterwise since in January - March covid had started spreading and from April onwards we had lockdown."
   ]
  },
  {
   "cell_type": "code",
   "execution_count": 19,
   "metadata": {
    "colab": {
     "base_uri": "https://localhost:8080/",
     "height": 1000
    },
    "id": "Dpiyl6Vv5v_i",
    "outputId": "3c2e5ce6-1d57-4f96-fcdd-217575053026"
   },
   "outputs": [
    {
     "data": {
      "image/png": "[encoded data removed]",
      "text/plain": [
       "<Figure size 720x360 with 1 Axes>"
      ]
     },
     "metadata": {
      "needs_background": "light"
     },
     "output_type": "display_data"
    },
    {
     "data": {
      "image/png": "[encoded data removed]",
      "text/plain": [
       "<Figure size 720x360 with 1 Axes>"
      ]
     },
     "metadata": {
      "needs_background": "light"
     },
     "output_type": "display_data"
    },
    {
     "data": {
      "image/png": "[encoded data removed]",
      "text/plain": [
       "<Figure size 720x360 with 1 Axes>"
      ]
     },
     "metadata": {
      "needs_background": "light"
     },
     "output_type": "display_data"
    },
    {
     "data": {
      "image/png": "[encoded data removed]",
      "text/plain": [
       "<Figure size 720x360 with 1 Axes>"
      ]
     },
     "metadata": {
      "needs_background": "light"
     },
     "output_type": "display_data"
    }
   ],
   "source": [
    "plot_hypothesis('No. of Aircrafts')"
   ]
  },
  {
   "cell_type": "markdown",
   "metadata": {
    "id": "Pa38NLi79tR0"
   },
   "source": [
    "# Conclusion - Same as the previous one\n"
   ]
  },
  {
   "cell_type": "code",
   "execution_count": 20,
   "metadata": {
    "colab": {
     "base_uri": "https://localhost:8080/",
     "height": 655,
     "referenced_widgets": [
      "c24bc08933ed462cbdda6e784bdb481b",
      "58a689f658e84eb3b7719d1205eddacd",
      "d7fa31555ff44b9d9e813b2c6e341bd5",
      "c82661524b5f47e6addbafee4b4d538f",
      "296dbedb185f4fd18d3c916e0dde54e3",
      "3247e8e844694b6e8c2b7800044b4569",
      "e295dde7c008424f9f4fa095675bebd2"
     ]
    },
    "id": "UbSHcWCIRNos",
    "outputId": "bd769410-9e47-4bc1-ba6d-065067270ebb"
   },
   "outputs": [
    {
     "data": {
      "application/vnd.jupyter.widget-view+json": {
       "model_id": "9e95102e1b94441fbb90fe3f9cebfd51",
       "version_major": 2,
       "version_minor": 0
      },
      "text/plain": [
       "interactive(children=(Dropdown(description='year', index=1, options=('2019', '2020'), value='2020'), Output())…"
      ]
     },
     "metadata": {},
     "output_type": "display_data"
    }
   ],
   "source": [
    "def coef_calc(x, y):\n",
    "    a=np.array([x,np.ones_like(x)]).T\n",
    "    result=np.linalg.lstsq(a,y, rcond = None)\n",
    "    return result[0]\n",
    "\n",
    "def plot_regression(coef, x, y): \n",
    "    passe=coef[0]*x + coef[1]\n",
    "    plt.plot(x,passe,'r')\n",
    "    plt.scatter(x,y)\n",
    "    plt.legend([f'R^2 = {get_rsq(y, passe):.2f}'], loc = 'upper left', fontsize = 15)\n",
    "    plt.ylabel('No. of Aircrafts (Ten thousands)')\n",
    "    plt.xlabel('No. of Passengers(lakhs)')\n",
    "               \n",
    "def get_rsq(y, yp):\n",
    "    sse = np.sum((yp - y)**2)\n",
    "    ybar = np.mean(y)\n",
    "    sst = np.sum((y - ybar)**2)\n",
    "    ssr = np.sum((yp - ybar)**2)\n",
    "    #ssr = sst - sse\n",
    "    return ssr/sst\n",
    "\n",
    "\n",
    "def regression(year = '2020'):\n",
    "    if (year == '2019'):\n",
    "        dfair=df2019_domestic['No. of Aircrafts'].to_numpy()\n",
    "        dfpass=df2019_domestic['No. of Passengers'].to_numpy()\n",
    "    else:\n",
    "        dfair=df2020_domestic['No. of Aircrafts'].to_numpy()\n",
    "        dfpass=df2020_domestic['No. of Passengers'].to_numpy()\n",
    "    coef = coef_calc(dfpass, dfair)\n",
    "    plt.figure(figsize = (10,10))\n",
    "    plot_regression(coef, dfpass, dfair)\n",
    "\n",
    "interact(regression, year= year);"
   ]
  },
  {
   "cell_type": "markdown",
   "metadata": {
    "id": "NAyzsLwVwUVn"
   },
   "source": [
    "- The approximation for the number of aircrafts according to the number of passengers for the year 2019 will not be accurate as the data is not that linear. \n",
    "\n",
    "- The approximation for the number of aircrafts according to the number of passengers for the year 2020 will be accurate as the data is almost linear and we are applying linear regression."
   ]
  },
  {
   "cell_type": "code",
   "execution_count": 21,
   "metadata": {},
   "outputs": [
    {
     "data": {
      "application/vnd.jupyter.widget-view+json": {
       "model_id": "43cced16a51e4b5f9b6cb7c1e6d8bdb2",
       "version_major": 2,
       "version_minor": 0
      },
      "text/plain": [
       "interactive(children=(Dropdown(description='year', index=1, options=('2019', '2020'), value='2020'), IntSlider…"
      ]
     },
     "metadata": {},
     "output_type": "display_data"
    }
   ],
   "source": [
    "def make_sample(x, y, sample_size):\n",
    "    position = np.random.randint(low = 0, high = 12, size = sample_size)\n",
    "    return x[position], y[position]\n",
    "    \n",
    "\n",
    "def regression_ci( year = '2020',sample_size = 6):\n",
    "    if year == '2019':\n",
    "        x = df2019_domestic['No. of Passengers'].to_numpy()\n",
    "        y = df2019_domestic['No. of Aircrafts'].to_numpy()\n",
    "    else:\n",
    "        x = df2020_domestic['No. of Passengers'].to_numpy()\n",
    "        y = df2020_domestic['No. of Aircrafts'].to_numpy()\n",
    "    \n",
    "    cs = []\n",
    "    yps = []\n",
    "    y_samples = []\n",
    "    for i in range(1000):\n",
    "        x_sample, y_sample = make_sample(x,y,sample_size)\n",
    "        coef = coef_calc(x_sample, y_sample)\n",
    "        cs.append(coef)\n",
    "        y_samples.append(y_sample)\n",
    "        yps.append(coef[0]*x+coef[1])\n",
    "    \n",
    "    cs = np.array(cs)\n",
    "    yps = np.array(yps)\n",
    "    coef = np.mean(cs, axis=0)\n",
    "    \n",
    "    plt.figure(figsize= (10, 10))\n",
    "    plt.scatter(x, y, color = 'r')\n",
    "    plt.plot(x, coef[0]*x+coef[1], lw = 3, label = 'main line')\n",
    "    for i in range(3):\n",
    "        plt.plot(x, yps[i])\n",
    "    plt.legend([f'Main Line: R^2 = {get_rsq(y, coef[0]*x+coef[1])}'], fontsize = 10, loc = 'upper left')\n",
    "    low, high = np.percentile(yps, [5, 95], axis=0)\n",
    "    ci = np.percentile(cs, [5, 95], axis=0)\n",
    "    print(f'90% Confidence intervals of the coefficients are starting coef: ({ci[0,0]},{ci[0,1]}) and ending coef: ({ci[1,0]},{ci[1,1]})')\n",
    "    plt.fill_between(x, low, high, alpha=0.2)\n",
    "    plt.ylabel('No. of Aircrafts (Ten thousands)')\n",
    "    plt.xlabel('No. of Passengers(lakhs)');\n",
    "    \n",
    "    \n",
    "interact(regression_ci, year = year, sample_size = (3,12));"
   ]
  },
  {
   "cell_type": "markdown",
   "metadata": {},
   "source": [
    "Similar thing can be noticed over here that:\n",
    "- The approximation for the number of aircrafts according to the number of passengers for the year 2019 will not be accurate as the data is not that linear. \n",
    "\n",
    "- The approximation for the number of aircrafts according to the number of passengers for the year 2020 will be accurate as the data is almost linear and we are applying linear regression.\n"
   ]
  }
 ],
 "metadata": {
  "colab": {
   "collapsed_sections": [],
   "name": "Project.ipynb",
   "provenance": []
  },
  "kernelspec": {
   "display_name": "Python 3",
   "language": "python",
   "name": "python3"
  },
  "language_info": {
   "codemirror_mode": {
    "name": "ipython",
    "version": 3
   },
   "file_extension": ".py",
   "mimetype": "text/x-python",
   "name": "python",
   "nbconvert_exporter": "python",
   "pygments_lexer": "ipython3",
   "version": "3.8.5"
  },
  "widgets": {
   "application/vnd.jupyter.widget-state+json": {
    "0ac4d235751044a0b6830e07ec976562": {
     "model_module": "@jupyter-widgets/base",
     "model_name": "LayoutModel",
     "state": {
      "_model_module": "@jupyter-widgets/base",
      "_model_module_version": "1.2.0",
      "_model_name": "LayoutModel",
      "_view_count": null,
      "_view_module": "@jupyter-widgets/base",
      "_view_module_version": "1.2.0",
      "_view_name": "LayoutView",
      "align_content": null,
      "align_items": null,
      "align_self": null,
      "border": null,
      "bottom": null,
      "display": null,
      "flex": null,
      "flex_flow": null,
      "grid_area": null,
      "grid_auto_columns": null,
      "grid_auto_flow": null,
      "grid_auto_rows": null,
      "grid_column": null,
      "grid_gap": null,
      "grid_row": null,
      "grid_template_areas": null,
      "grid_template_columns": null,
      "grid_template_rows": null,
      "height": null,
      "justify_content": null,
      "justify_items": null,
      "left": null,
      "margin": null,
      "max_height": null,
      "max_width": null,
      "min_height": null,
      "min_width": null,
      "object_fit": null,
      "object_position": null,
      "order": null,
      "overflow": null,
      "overflow_x": null,
      "overflow_y": null,
      "padding": null,
      "right": null,
      "top": null,
      "visibility": null,
      "width": null
     }
    },
    "16187d62c60a41479329945526afbbd2": {
     "model_module": "@jupyter-widgets/base",
     "model_name": "LayoutModel",
     "state": {
      "_model_module": "@jupyter-widgets/base",
      "_model_module_version": "1.2.0",
      "_model_name": "LayoutModel",
      "_view_count": null,
      "_view_module": "@jupyter-widgets/base",
      "_view_module_version": "1.2.0",
      "_view_name": "LayoutView",
      "align_content": null,
      "align_items": null,
      "align_self": null,
      "border": null,
      "bottom": null,
      "display": null,
      "flex": null,
      "flex_flow": null,
      "grid_area": null,
      "grid_auto_columns": null,
      "grid_auto_flow": null,
      "grid_auto_rows": null,
      "grid_column": null,
      "grid_gap": null,
      "grid_row": null,
      "grid_template_areas": null,
      "grid_template_columns": null,
      "grid_template_rows": null,
      "height": null,
      "justify_content": null,
      "justify_items": null,
      "left": null,
      "margin": null,
      "max_height": null,
      "max_width": null,
      "min_height": null,
      "min_width": null,
      "object_fit": null,
      "object_position": null,
      "order": null,
      "overflow": null,
      "overflow_x": null,
      "overflow_y": null,
      "padding": null,
      "right": null,
      "top": null,
      "visibility": null,
      "width": null
     }
    },
    "296dbedb185f4fd18d3c916e0dde54e3": {
     "model_module": "@jupyter-widgets/controls",
     "model_name": "DescriptionStyleModel",
     "state": {
      "_model_module": "@jupyter-widgets/controls",
      "_model_module_version": "1.5.0",
      "_model_name": "DescriptionStyleModel",
      "_view_count": null,
      "_view_module": "@jupyter-widgets/base",
      "_view_module_version": "1.2.0",
      "_view_name": "StyleView",
      "description_width": ""
     }
    },
    "2a531623e6914110b41bda201b8bc155": {
     "model_module": "@jupyter-widgets/controls",
     "model_name": "SliderStyleModel",
     "state": {
      "_model_module": "@jupyter-widgets/controls",
      "_model_module_version": "1.5.0",
      "_model_name": "SliderStyleModel",
      "_view_count": null,
      "_view_module": "@jupyter-widgets/base",
      "_view_module_version": "1.2.0",
      "_view_name": "StyleView",
      "description_width": "",
      "handle_color": null
     }
    },
    "2d1f0052bf864b33b0651de5828beb0a": {
     "model_module": "@jupyter-widgets/base",
     "model_name": "LayoutModel",
     "state": {
      "_model_module": "@jupyter-widgets/base",
      "_model_module_version": "1.2.0",
      "_model_name": "LayoutModel",
      "_view_count": null,
      "_view_module": "@jupyter-widgets/base",
      "_view_module_version": "1.2.0",
      "_view_name": "LayoutView",
      "align_content": null,
      "align_items": null,
      "align_self": null,
      "border": null,
      "bottom": null,
      "display": null,
      "flex": null,
      "flex_flow": null,
      "grid_area": null,
      "grid_auto_columns": null,
      "grid_auto_flow": null,
      "grid_auto_rows": null,
      "grid_column": null,
      "grid_gap": null,
      "grid_row": null,
      "grid_template_areas": null,
      "grid_template_columns": null,
      "grid_template_rows": null,
      "height": null,
      "justify_content": null,
      "justify_items": null,
      "left": null,
      "margin": null,
      "max_height": null,
      "max_width": null,
      "min_height": null,
      "min_width": null,
      "object_fit": null,
      "object_position": null,
      "order": null,
      "overflow": null,
      "overflow_x": null,
      "overflow_y": null,
      "padding": null,
      "right": null,
      "top": null,
      "visibility": null,
      "width": null
     }
    },
    "2db7a5511c4b4b6c9ea68768f6de38d5": {
     "model_module": "@jupyter-widgets/controls",
     "model_name": "IntSliderModel",
     "state": {
      "_dom_classes": [],
      "_model_module": "@jupyter-widgets/controls",
      "_model_module_version": "1.5.0",
      "_model_name": "IntSliderModel",
      "_view_count": null,
      "_view_module": "@jupyter-widgets/controls",
      "_view_module_version": "1.5.0",
      "_view_name": "IntSliderView",
      "continuous_update": true,
      "description": "sample_size",
      "description_tooltip": null,
      "disabled": false,
      "layout": "IPY_MODEL_55faa600abae4acf8a4709c2802111d0",
      "max": 12,
      "min": 3,
      "orientation": "horizontal",
      "readout": true,
      "readout_format": "d",
      "step": 1,
      "style": "IPY_MODEL_bedbdce688f344e2a41b8f7aec17ade0",
      "value": 6
     }
    },
    "2fe7aaa4b71c41588d0990ed854ebd9d": {
     "model_module": "@jupyter-widgets/controls",
     "model_name": "DropdownModel",
     "state": {
      "_dom_classes": [],
      "_model_module": "@jupyter-widgets/controls",
      "_model_module_version": "1.5.0",
      "_model_name": "DropdownModel",
      "_options_labels": [
       "No. of Passengers",
       "No. of Aircrafts"
      ],
      "_view_count": null,
      "_view_module": "@jupyter-widgets/controls",
      "_view_module_version": "1.5.0",
      "_view_name": "DropdownView",
      "description": "interest",
      "description_tooltip": null,
      "disabled": false,
      "index": 0,
      "layout": "IPY_MODEL_882e8d29401d4f95bc8b6233ef39b478",
      "style": "IPY_MODEL_b2384f6fbc31455cb17850fb8ea2b8b1"
     }
    },
    "3247e8e844694b6e8c2b7800044b4569": {
     "model_module": "@jupyter-widgets/base",
     "model_name": "LayoutModel",
     "state": {
      "_model_module": "@jupyter-widgets/base",
      "_model_module_version": "1.2.0",
      "_model_name": "LayoutModel",
      "_view_count": null,
      "_view_module": "@jupyter-widgets/base",
      "_view_module_version": "1.2.0",
      "_view_name": "LayoutView",
      "align_content": null,
      "align_items": null,
      "align_self": null,
      "border": null,
      "bottom": null,
      "display": null,
      "flex": null,
      "flex_flow": null,
      "grid_area": null,
      "grid_auto_columns": null,
      "grid_auto_flow": null,
      "grid_auto_rows": null,
      "grid_column": null,
      "grid_gap": null,
      "grid_row": null,
      "grid_template_areas": null,
      "grid_template_columns": null,
      "grid_template_rows": null,
      "height": null,
      "justify_content": null,
      "justify_items": null,
      "left": null,
      "margin": null,
      "max_height": null,
      "max_width": null,
      "min_height": null,
      "min_width": null,
      "object_fit": null,
      "object_position": null,
      "order": null,
      "overflow": null,
      "overflow_x": null,
      "overflow_y": null,
      "padding": null,
      "right": null,
      "top": null,
      "visibility": null,
      "width": null
     }
    },
    "3b063ad907a149a1b5385f5d74e4a3a9": {
     "model_module": "@jupyter-widgets/controls",
     "model_name": "DescriptionStyleModel",
     "state": {
      "_model_module": "@jupyter-widgets/controls",
      "_model_module_version": "1.5.0",
      "_model_name": "DescriptionStyleModel",
      "_view_count": null,
      "_view_module": "@jupyter-widgets/base",
      "_view_module_version": "1.2.0",
      "_view_name": "StyleView",
      "description_width": ""
     }
    },
    "3f6202afe3244e56a3dfed8e62412c17": {
     "model_module": "@jupyter-widgets/base",
     "model_name": "LayoutModel",
     "state": {
      "_model_module": "@jupyter-widgets/base",
      "_model_module_version": "1.2.0",
      "_model_name": "LayoutModel",
      "_view_count": null,
      "_view_module": "@jupyter-widgets/base",
      "_view_module_version": "1.2.0",
      "_view_name": "LayoutView",
      "align_content": null,
      "align_items": null,
      "align_self": null,
      "border": null,
      "bottom": null,
      "display": null,
      "flex": null,
      "flex_flow": null,
      "grid_area": null,
      "grid_auto_columns": null,
      "grid_auto_flow": null,
      "grid_auto_rows": null,
      "grid_column": null,
      "grid_gap": null,
      "grid_row": null,
      "grid_template_areas": null,
      "grid_template_columns": null,
      "grid_template_rows": null,
      "height": null,
      "justify_content": null,
      "justify_items": null,
      "left": null,
      "margin": null,
      "max_height": null,
      "max_width": null,
      "min_height": null,
      "min_width": null,
      "object_fit": null,
      "object_position": null,
      "order": null,
      "overflow": null,
      "overflow_x": null,
      "overflow_y": null,
      "padding": null,
      "right": null,
      "top": null,
      "visibility": null,
      "width": null
     }
    },
    "4990910aeed04b06bded8b3aea6b1008": {
     "model_module": "@jupyter-widgets/controls",
     "model_name": "DescriptionStyleModel",
     "state": {
      "_model_module": "@jupyter-widgets/controls",
      "_model_module_version": "1.5.0",
      "_model_name": "DescriptionStyleModel",
      "_view_count": null,
      "_view_module": "@jupyter-widgets/base",
      "_view_module_version": "1.2.0",
      "_view_name": "StyleView",
      "description_width": ""
     }
    },
    "4d95cd9fb4cd4025918a8847adc05409": {
     "model_module": "@jupyter-widgets/controls",
     "model_name": "DescriptionStyleModel",
     "state": {
      "_model_module": "@jupyter-widgets/controls",
      "_model_module_version": "1.5.0",
      "_model_name": "DescriptionStyleModel",
      "_view_count": null,
      "_view_module": "@jupyter-widgets/base",
      "_view_module_version": "1.2.0",
      "_view_name": "StyleView",
      "description_width": ""
     }
    },
    "500afccdd1dc442a9954d1924986fa02": {
     "model_module": "@jupyter-widgets/controls",
     "model_name": "VBoxModel",
     "state": {
      "_dom_classes": [
       "widget-interact"
      ],
      "_model_module": "@jupyter-widgets/controls",
      "_model_module_version": "1.5.0",
      "_model_name": "VBoxModel",
      "_view_count": null,
      "_view_module": "@jupyter-widgets/controls",
      "_view_module_version": "1.5.0",
      "_view_name": "VBoxView",
      "box_style": "",
      "children": [
       "IPY_MODEL_bbcf2f9d0d984338a7a044c4bdaab06f",
       "IPY_MODEL_daff90f23d5e4e3f94053f5ef4547436",
       "IPY_MODEL_2db7a5511c4b4b6c9ea68768f6de38d5",
       "IPY_MODEL_a8f3b3d6737f418e9a3f4e0f2d8e1145"
      ],
      "layout": "IPY_MODEL_ad47ce5c82fa436d9e5155fc41f085cb"
     }
    },
    "519b5351111a4b32b38ee0a67a944c43": {
     "model_module": "@jupyter-widgets/controls",
     "model_name": "DescriptionStyleModel",
     "state": {
      "_model_module": "@jupyter-widgets/controls",
      "_model_module_version": "1.5.0",
      "_model_name": "DescriptionStyleModel",
      "_view_count": null,
      "_view_module": "@jupyter-widgets/base",
      "_view_module_version": "1.2.0",
      "_view_name": "StyleView",
      "description_width": ""
     }
    },
    "55faa600abae4acf8a4709c2802111d0": {
     "model_module": "@jupyter-widgets/base",
     "model_name": "LayoutModel",
     "state": {
      "_model_module": "@jupyter-widgets/base",
      "_model_module_version": "1.2.0",
      "_model_name": "LayoutModel",
      "_view_count": null,
      "_view_module": "@jupyter-widgets/base",
      "_view_module_version": "1.2.0",
      "_view_name": "LayoutView",
      "align_content": null,
      "align_items": null,
      "align_self": null,
      "border": null,
      "bottom": null,
      "display": null,
      "flex": null,
      "flex_flow": null,
      "grid_area": null,
      "grid_auto_columns": null,
      "grid_auto_flow": null,
      "grid_auto_rows": null,
      "grid_column": null,
      "grid_gap": null,
      "grid_row": null,
      "grid_template_areas": null,
      "grid_template_columns": null,
      "grid_template_rows": null,
      "height": null,
      "justify_content": null,
      "justify_items": null,
      "left": null,
      "margin": null,
      "max_height": null,
      "max_width": null,
      "min_height": null,
      "min_width": null,
      "object_fit": null,
      "object_position": null,
      "order": null,
      "overflow": null,
      "overflow_x": null,
      "overflow_y": null,
      "padding": null,
      "right": null,
      "top": null,
      "visibility": null,
      "width": null
     }
    },
    "57e5c406fef04c93812c12fd16a65f02": {
     "model_module": "@jupyter-widgets/controls",
     "model_name": "DropdownModel",
     "state": {
      "_dom_classes": [],
      "_model_module": "@jupyter-widgets/controls",
      "_model_module_version": "1.5.0",
      "_model_name": "DropdownModel",
      "_options_labels": [
       "2019",
       "2020"
      ],
      "_view_count": null,
      "_view_module": "@jupyter-widgets/controls",
      "_view_module_version": "1.5.0",
      "_view_name": "DropdownView",
      "description": "year",
      "description_tooltip": null,
      "disabled": false,
      "index": 0,
      "layout": "IPY_MODEL_9b873b364d2349a1a96b312d041cfedb",
      "style": "IPY_MODEL_db47340f98c448299251365d5d3f0eb5"
     }
    },
    "58a689f658e84eb3b7719d1205eddacd": {
     "model_module": "@jupyter-widgets/base",
     "model_name": "LayoutModel",
     "state": {
      "_model_module": "@jupyter-widgets/base",
      "_model_module_version": "1.2.0",
      "_model_name": "LayoutModel",
      "_view_count": null,
      "_view_module": "@jupyter-widgets/base",
      "_view_module_version": "1.2.0",
      "_view_name": "LayoutView",
      "align_content": null,
      "align_items": null,
      "align_self": null,
      "border": null,
      "bottom": null,
      "display": null,
      "flex": null,
      "flex_flow": null,
      "grid_area": null,
      "grid_auto_columns": null,
      "grid_auto_flow": null,
      "grid_auto_rows": null,
      "grid_column": null,
      "grid_gap": null,
      "grid_row": null,
      "grid_template_areas": null,
      "grid_template_columns": null,
      "grid_template_rows": null,
      "height": null,
      "justify_content": null,
      "justify_items": null,
      "left": null,
      "margin": null,
      "max_height": null,
      "max_width": null,
      "min_height": null,
      "min_width": null,
      "object_fit": null,
      "object_position": null,
      "order": null,
      "overflow": null,
      "overflow_x": null,
      "overflow_y": null,
      "padding": null,
      "right": null,
      "top": null,
      "visibility": null,
      "width": null
     }
    },
    "59ca56fac3bd4691b991bb04329b5966": {
     "model_module": "@jupyter-widgets/base",
     "model_name": "LayoutModel",
     "state": {
      "_model_module": "@jupyter-widgets/base",
      "_model_module_version": "1.2.0",
      "_model_name": "LayoutModel",
      "_view_count": null,
      "_view_module": "@jupyter-widgets/base",
      "_view_module_version": "1.2.0",
      "_view_name": "LayoutView",
      "align_content": null,
      "align_items": null,
      "align_self": null,
      "border": null,
      "bottom": null,
      "display": null,
      "flex": null,
      "flex_flow": null,
      "grid_area": null,
      "grid_auto_columns": null,
      "grid_auto_flow": null,
      "grid_auto_rows": null,
      "grid_column": null,
      "grid_gap": null,
      "grid_row": null,
      "grid_template_areas": null,
      "grid_template_columns": null,
      "grid_template_rows": null,
      "height": null,
      "justify_content": null,
      "justify_items": null,
      "left": null,
      "margin": null,
      "max_height": null,
      "max_width": null,
      "min_height": null,
      "min_width": null,
      "object_fit": null,
      "object_position": null,
      "order": null,
      "overflow": null,
      "overflow_x": null,
      "overflow_y": null,
      "padding": null,
      "right": null,
      "top": null,
      "visibility": null,
      "width": null
     }
    },
    "5f70d37488ec4950a1055207e847a0a0": {
     "model_module": "@jupyter-widgets/base",
     "model_name": "LayoutModel",
     "state": {
      "_model_module": "@jupyter-widgets/base",
      "_model_module_version": "1.2.0",
      "_model_name": "LayoutModel",
      "_view_count": null,
      "_view_module": "@jupyter-widgets/base",
      "_view_module_version": "1.2.0",
      "_view_name": "LayoutView",
      "align_content": null,
      "align_items": null,
      "align_self": null,
      "border": null,
      "bottom": null,
      "display": null,
      "flex": null,
      "flex_flow": null,
      "grid_area": null,
      "grid_auto_columns": null,
      "grid_auto_flow": null,
      "grid_auto_rows": null,
      "grid_column": null,
      "grid_gap": null,
      "grid_row": null,
      "grid_template_areas": null,
      "grid_template_columns": null,
      "grid_template_rows": null,
      "height": null,
      "justify_content": null,
      "justify_items": null,
      "left": null,
      "margin": null,
      "max_height": null,
      "max_width": null,
      "min_height": null,
      "min_width": null,
      "object_fit": null,
      "object_position": null,
      "order": null,
      "overflow": null,
      "overflow_x": null,
      "overflow_y": null,
      "padding": null,
      "right": null,
      "top": null,
      "visibility": null,
      "width": null
     }
    },
    "6a0ac118daf442fe980c6267ef553f35": {
     "model_module": "@jupyter-widgets/controls",
     "model_name": "IntSliderModel",
     "state": {
      "_dom_classes": [],
      "_model_module": "@jupyter-widgets/controls",
      "_model_module_version": "1.5.0",
      "_model_name": "IntSliderModel",
      "_view_count": null,
      "_view_module": "@jupyter-widgets/controls",
      "_view_module_version": "1.5.0",
      "_view_name": "IntSliderView",
      "continuous_update": true,
      "description": "sample_size",
      "description_tooltip": null,
      "disabled": false,
      "layout": "IPY_MODEL_a2964af732d04fd29c141018407c2888",
      "max": 200,
      "min": 100,
      "orientation": "horizontal",
      "readout": true,
      "readout_format": "d",
      "step": 1,
      "style": "IPY_MODEL_7216ced45fbf47c388b1ce756e7826c4",
      "value": 100
     }
    },
    "6fa7709fc80147efad7e23954ba9ccb0": {
     "model_module": "@jupyter-widgets/output",
     "model_name": "OutputModel",
     "state": {
      "_dom_classes": [],
      "_model_module": "@jupyter-widgets/output",
      "_model_module_version": "1.0.0",
      "_model_name": "OutputModel",
      "_view_count": null,
      "_view_module": "@jupyter-widgets/output",
      "_view_module_version": "1.0.0",
      "_view_name": "OutputView",
      "layout": "IPY_MODEL_8fce6aaebed44e8fbf6ef39cd41e1bd7",
      "msg_id": "",
      "outputs": [
       {
        "metadata": {
         "tags": []
        },
        "output_type": "stream",
        "stream": "stdout",
        "text": "\nTrue Mean for the selected data is 120.14333333333336\nTrue Variance for the selected data is 34.92655555555557\n"
       }
      ]
     }
    },
    "7133fce321fc4a5dbd822c6d56d969e3": {
     "model_module": "@jupyter-widgets/controls",
     "model_name": "DescriptionStyleModel",
     "state": {
      "_model_module": "@jupyter-widgets/controls",
      "_model_module_version": "1.5.0",
      "_model_name": "DescriptionStyleModel",
      "_view_count": null,
      "_view_module": "@jupyter-widgets/base",
      "_view_module_version": "1.2.0",
      "_view_name": "StyleView",
      "description_width": ""
     }
    },
    "714908cd9b214626a3d6fb9aec4415ab": {
     "model_module": "@jupyter-widgets/base",
     "model_name": "LayoutModel",
     "state": {
      "_model_module": "@jupyter-widgets/base",
      "_model_module_version": "1.2.0",
      "_model_name": "LayoutModel",
      "_view_count": null,
      "_view_module": "@jupyter-widgets/base",
      "_view_module_version": "1.2.0",
      "_view_name": "LayoutView",
      "align_content": null,
      "align_items": null,
      "align_self": null,
      "border": null,
      "bottom": null,
      "display": null,
      "flex": null,
      "flex_flow": null,
      "grid_area": null,
      "grid_auto_columns": null,
      "grid_auto_flow": null,
      "grid_auto_rows": null,
      "grid_column": null,
      "grid_gap": null,
      "grid_row": null,
      "grid_template_areas": null,
      "grid_template_columns": null,
      "grid_template_rows": null,
      "height": null,
      "justify_content": null,
      "justify_items": null,
      "left": null,
      "margin": null,
      "max_height": null,
      "max_width": null,
      "min_height": null,
      "min_width": null,
      "object_fit": null,
      "object_position": null,
      "order": null,
      "overflow": null,
      "overflow_x": null,
      "overflow_y": null,
      "padding": null,
      "right": null,
      "top": null,
      "visibility": null,
      "width": null
     }
    },
    "718395d03d9b45f6bfda7bf5e3da5a0e": {
     "model_module": "@jupyter-widgets/base",
     "model_name": "LayoutModel",
     "state": {
      "_model_module": "@jupyter-widgets/base",
      "_model_module_version": "1.2.0",
      "_model_name": "LayoutModel",
      "_view_count": null,
      "_view_module": "@jupyter-widgets/base",
      "_view_module_version": "1.2.0",
      "_view_name": "LayoutView",
      "align_content": null,
      "align_items": null,
      "align_self": null,
      "border": null,
      "bottom": null,
      "display": null,
      "flex": null,
      "flex_flow": null,
      "grid_area": null,
      "grid_auto_columns": null,
      "grid_auto_flow": null,
      "grid_auto_rows": null,
      "grid_column": null,
      "grid_gap": null,
      "grid_row": null,
      "grid_template_areas": null,
      "grid_template_columns": null,
      "grid_template_rows": null,
      "height": null,
      "justify_content": null,
      "justify_items": null,
      "left": null,
      "margin": null,
      "max_height": null,
      "max_width": null,
      "min_height": null,
      "min_width": null,
      "object_fit": null,
      "object_position": null,
      "order": null,
      "overflow": null,
      "overflow_x": null,
      "overflow_y": null,
      "padding": null,
      "right": null,
      "top": null,
      "visibility": null,
      "width": null
     }
    },
    "7216ced45fbf47c388b1ce756e7826c4": {
     "model_module": "@jupyter-widgets/controls",
     "model_name": "SliderStyleModel",
     "state": {
      "_model_module": "@jupyter-widgets/controls",
      "_model_module_version": "1.5.0",
      "_model_name": "SliderStyleModel",
      "_view_count": null,
      "_view_module": "@jupyter-widgets/base",
      "_view_module_version": "1.2.0",
      "_view_name": "StyleView",
      "description_width": "",
      "handle_color": null
     }
    },
    "73b5d748f03a4be7b3a02d3cdf632982": {
     "model_module": "@jupyter-widgets/base",
     "model_name": "LayoutModel",
     "state": {
      "_model_module": "@jupyter-widgets/base",
      "_model_module_version": "1.2.0",
      "_model_name": "LayoutModel",
      "_view_count": null,
      "_view_module": "@jupyter-widgets/base",
      "_view_module_version": "1.2.0",
      "_view_name": "LayoutView",
      "align_content": null,
      "align_items": null,
      "align_self": null,
      "border": null,
      "bottom": null,
      "display": null,
      "flex": null,
      "flex_flow": null,
      "grid_area": null,
      "grid_auto_columns": null,
      "grid_auto_flow": null,
      "grid_auto_rows": null,
      "grid_column": null,
      "grid_gap": null,
      "grid_row": null,
      "grid_template_areas": null,
      "grid_template_columns": null,
      "grid_template_rows": null,
      "height": null,
      "justify_content": null,
      "justify_items": null,
      "left": null,
      "margin": null,
      "max_height": null,
      "max_width": null,
      "min_height": null,
      "min_width": null,
      "object_fit": null,
      "object_position": null,
      "order": null,
      "overflow": null,
      "overflow_x": null,
      "overflow_y": null,
      "padding": null,
      "right": null,
      "top": null,
      "visibility": null,
      "width": null
     }
    },
    "7d525eaab83e4892be361a5901c1cd92": {
     "model_module": "@jupyter-widgets/controls",
     "model_name": "IntSliderModel",
     "state": {
      "_dom_classes": [],
      "_model_module": "@jupyter-widgets/controls",
      "_model_module_version": "1.5.0",
      "_model_name": "IntSliderModel",
      "_view_count": null,
      "_view_module": "@jupyter-widgets/controls",
      "_view_module_version": "1.5.0",
      "_view_name": "IntSliderView",
      "continuous_update": true,
      "description": "sample_size",
      "description_tooltip": null,
      "disabled": false,
      "layout": "IPY_MODEL_2d1f0052bf864b33b0651de5828beb0a",
      "max": 12,
      "min": 3,
      "orientation": "horizontal",
      "readout": true,
      "readout_format": "d",
      "step": 1,
      "style": "IPY_MODEL_2a531623e6914110b41bda201b8bc155",
      "value": 6
     }
    },
    "83870ef9c3bc4b7caad66ce21685bbf1": {
     "model_module": "@jupyter-widgets/base",
     "model_name": "LayoutModel",
     "state": {
      "_model_module": "@jupyter-widgets/base",
      "_model_module_version": "1.2.0",
      "_model_name": "LayoutModel",
      "_view_count": null,
      "_view_module": "@jupyter-widgets/base",
      "_view_module_version": "1.2.0",
      "_view_name": "LayoutView",
      "align_content": null,
      "align_items": null,
      "align_self": null,
      "border": null,
      "bottom": null,
      "display": null,
      "flex": null,
      "flex_flow": null,
      "grid_area": null,
      "grid_auto_columns": null,
      "grid_auto_flow": null,
      "grid_auto_rows": null,
      "grid_column": null,
      "grid_gap": null,
      "grid_row": null,
      "grid_template_areas": null,
      "grid_template_columns": null,
      "grid_template_rows": null,
      "height": null,
      "justify_content": null,
      "justify_items": null,
      "left": null,
      "margin": null,
      "max_height": null,
      "max_width": null,
      "min_height": null,
      "min_width": null,
      "object_fit": null,
      "object_position": null,
      "order": null,
      "overflow": null,
      "overflow_x": null,
      "overflow_y": null,
      "padding": null,
      "right": null,
      "top": null,
      "visibility": null,
      "width": null
     }
    },
    "84be5d8a396042da984c55686105df54": {
     "model_module": "@jupyter-widgets/controls",
     "model_name": "VBoxModel",
     "state": {
      "_dom_classes": [
       "widget-interact"
      ],
      "_model_module": "@jupyter-widgets/controls",
      "_model_module_version": "1.5.0",
      "_model_name": "VBoxModel",
      "_view_count": null,
      "_view_module": "@jupyter-widgets/controls",
      "_view_module_version": "1.5.0",
      "_view_name": "VBoxView",
      "box_style": "",
      "children": [
       "IPY_MODEL_bf923676c36d484cbe7de6bd075bb753",
       "IPY_MODEL_aacb4d29467247fe8f78b379588627d2",
       "IPY_MODEL_6a0ac118daf442fe980c6267ef553f35",
       "IPY_MODEL_d195eda7fed14701a8f171fa5741fa01"
      ],
      "layout": "IPY_MODEL_3f6202afe3244e56a3dfed8e62412c17"
     }
    },
    "8531850b10d24b68bb29003e6e346c90": {
     "model_module": "@jupyter-widgets/controls",
     "model_name": "DescriptionStyleModel",
     "state": {
      "_model_module": "@jupyter-widgets/controls",
      "_model_module_version": "1.5.0",
      "_model_name": "DescriptionStyleModel",
      "_view_count": null,
      "_view_module": "@jupyter-widgets/base",
      "_view_module_version": "1.2.0",
      "_view_name": "StyleView",
      "description_width": ""
     }
    },
    "882e8d29401d4f95bc8b6233ef39b478": {
     "model_module": "@jupyter-widgets/base",
     "model_name": "LayoutModel",
     "state": {
      "_model_module": "@jupyter-widgets/base",
      "_model_module_version": "1.2.0",
      "_model_name": "LayoutModel",
      "_view_count": null,
      "_view_module": "@jupyter-widgets/base",
      "_view_module_version": "1.2.0",
      "_view_name": "LayoutView",
      "align_content": null,
      "align_items": null,
      "align_self": null,
      "border": null,
      "bottom": null,
      "display": null,
      "flex": null,
      "flex_flow": null,
      "grid_area": null,
      "grid_auto_columns": null,
      "grid_auto_flow": null,
      "grid_auto_rows": null,
      "grid_column": null,
      "grid_gap": null,
      "grid_row": null,
      "grid_template_areas": null,
      "grid_template_columns": null,
      "grid_template_rows": null,
      "height": null,
      "justify_content": null,
      "justify_items": null,
      "left": null,
      "margin": null,
      "max_height": null,
      "max_width": null,
      "min_height": null,
      "min_width": null,
      "object_fit": null,
      "object_position": null,
      "order": null,
      "overflow": null,
      "overflow_x": null,
      "overflow_y": null,
      "padding": null,
      "right": null,
      "top": null,
      "visibility": null,
      "width": null
     }
    },
    "89720322eee94101970fb9f70d1aadf0": {
     "model_module": "@jupyter-widgets/base",
     "model_name": "LayoutModel",
     "state": {
      "_model_module": "@jupyter-widgets/base",
      "_model_module_version": "1.2.0",
      "_model_name": "LayoutModel",
      "_view_count": null,
      "_view_module": "@jupyter-widgets/base",
      "_view_module_version": "1.2.0",
      "_view_name": "LayoutView",
      "align_content": null,
      "align_items": null,
      "align_self": null,
      "border": null,
      "bottom": null,
      "display": null,
      "flex": null,
      "flex_flow": null,
      "grid_area": null,
      "grid_auto_columns": null,
      "grid_auto_flow": null,
      "grid_auto_rows": null,
      "grid_column": null,
      "grid_gap": null,
      "grid_row": null,
      "grid_template_areas": null,
      "grid_template_columns": null,
      "grid_template_rows": null,
      "height": null,
      "justify_content": null,
      "justify_items": null,
      "left": null,
      "margin": null,
      "max_height": null,
      "max_width": null,
      "min_height": null,
      "min_width": null,
      "object_fit": null,
      "object_position": null,
      "order": null,
      "overflow": null,
      "overflow_x": null,
      "overflow_y": null,
      "padding": null,
      "right": null,
      "top": null,
      "visibility": null,
      "width": null
     }
    },
    "8afd4bd869624cd59b51a2aae3e24b64": {
     "model_module": "@jupyter-widgets/base",
     "model_name": "LayoutModel",
     "state": {
      "_model_module": "@jupyter-widgets/base",
      "_model_module_version": "1.2.0",
      "_model_name": "LayoutModel",
      "_view_count": null,
      "_view_module": "@jupyter-widgets/base",
      "_view_module_version": "1.2.0",
      "_view_name": "LayoutView",
      "align_content": null,
      "align_items": null,
      "align_self": null,
      "border": null,
      "bottom": null,
      "display": null,
      "flex": null,
      "flex_flow": null,
      "grid_area": null,
      "grid_auto_columns": null,
      "grid_auto_flow": null,
      "grid_auto_rows": null,
      "grid_column": null,
      "grid_gap": null,
      "grid_row": null,
      "grid_template_areas": null,
      "grid_template_columns": null,
      "grid_template_rows": null,
      "height": null,
      "justify_content": null,
      "justify_items": null,
      "left": null,
      "margin": null,
      "max_height": null,
      "max_width": null,
      "min_height": null,
      "min_width": null,
      "object_fit": null,
      "object_position": null,
      "order": null,
      "overflow": null,
      "overflow_x": null,
      "overflow_y": null,
      "padding": null,
      "right": null,
      "top": null,
      "visibility": null,
      "width": null
     }
    },
    "8fce6aaebed44e8fbf6ef39cd41e1bd7": {
     "model_module": "@jupyter-widgets/base",
     "model_name": "LayoutModel",
     "state": {
      "_model_module": "@jupyter-widgets/base",
      "_model_module_version": "1.2.0",
      "_model_name": "LayoutModel",
      "_view_count": null,
      "_view_module": "@jupyter-widgets/base",
      "_view_module_version": "1.2.0",
      "_view_name": "LayoutView",
      "align_content": null,
      "align_items": null,
      "align_self": null,
      "border": null,
      "bottom": null,
      "display": null,
      "flex": null,
      "flex_flow": null,
      "grid_area": null,
      "grid_auto_columns": null,
      "grid_auto_flow": null,
      "grid_auto_rows": null,
      "grid_column": null,
      "grid_gap": null,
      "grid_row": null,
      "grid_template_areas": null,
      "grid_template_columns": null,
      "grid_template_rows": null,
      "height": null,
      "justify_content": null,
      "justify_items": null,
      "left": null,
      "margin": null,
      "max_height": null,
      "max_width": null,
      "min_height": null,
      "min_width": null,
      "object_fit": null,
      "object_position": null,
      "order": null,
      "overflow": null,
      "overflow_x": null,
      "overflow_y": null,
      "padding": null,
      "right": null,
      "top": null,
      "visibility": null,
      "width": null
     }
    },
    "91fd124b9931441c997734865bb3f2f4": {
     "model_module": "@jupyter-widgets/controls",
     "model_name": "DescriptionStyleModel",
     "state": {
      "_model_module": "@jupyter-widgets/controls",
      "_model_module_version": "1.5.0",
      "_model_name": "DescriptionStyleModel",
      "_view_count": null,
      "_view_module": "@jupyter-widgets/base",
      "_view_module_version": "1.2.0",
      "_view_name": "StyleView",
      "description_width": ""
     }
    },
    "93231538d21543d495b229710f7fbbc0": {
     "model_module": "@jupyter-widgets/base",
     "model_name": "LayoutModel",
     "state": {
      "_model_module": "@jupyter-widgets/base",
      "_model_module_version": "1.2.0",
      "_model_name": "LayoutModel",
      "_view_count": null,
      "_view_module": "@jupyter-widgets/base",
      "_view_module_version": "1.2.0",
      "_view_name": "LayoutView",
      "align_content": null,
      "align_items": null,
      "align_self": null,
      "border": null,
      "bottom": null,
      "display": null,
      "flex": null,
      "flex_flow": null,
      "grid_area": null,
      "grid_auto_columns": null,
      "grid_auto_flow": null,
      "grid_auto_rows": null,
      "grid_column": null,
      "grid_gap": null,
      "grid_row": null,
      "grid_template_areas": null,
      "grid_template_columns": null,
      "grid_template_rows": null,
      "height": null,
      "justify_content": null,
      "justify_items": null,
      "left": null,
      "margin": null,
      "max_height": null,
      "max_width": null,
      "min_height": null,
      "min_width": null,
      "object_fit": null,
      "object_position": null,
      "order": null,
      "overflow": null,
      "overflow_x": null,
      "overflow_y": null,
      "padding": null,
      "right": null,
      "top": null,
      "visibility": null,
      "width": null
     }
    },
    "98d6014406824e69a226775acd580376": {
     "model_module": "@jupyter-widgets/base",
     "model_name": "LayoutModel",
     "state": {
      "_model_module": "@jupyter-widgets/base",
      "_model_module_version": "1.2.0",
      "_model_name": "LayoutModel",
      "_view_count": null,
      "_view_module": "@jupyter-widgets/base",
      "_view_module_version": "1.2.0",
      "_view_name": "LayoutView",
      "align_content": null,
      "align_items": null,
      "align_self": null,
      "border": null,
      "bottom": null,
      "display": null,
      "flex": null,
      "flex_flow": null,
      "grid_area": null,
      "grid_auto_columns": null,
      "grid_auto_flow": null,
      "grid_auto_rows": null,
      "grid_column": null,
      "grid_gap": null,
      "grid_row": null,
      "grid_template_areas": null,
      "grid_template_columns": null,
      "grid_template_rows": null,
      "height": null,
      "justify_content": null,
      "justify_items": null,
      "left": null,
      "margin": null,
      "max_height": null,
      "max_width": null,
      "min_height": null,
      "min_width": null,
      "object_fit": null,
      "object_position": null,
      "order": null,
      "overflow": null,
      "overflow_x": null,
      "overflow_y": null,
      "padding": null,
      "right": null,
      "top": null,
      "visibility": null,
      "width": null
     }
    },
    "9b873b364d2349a1a96b312d041cfedb": {
     "model_module": "@jupyter-widgets/base",
     "model_name": "LayoutModel",
     "state": {
      "_model_module": "@jupyter-widgets/base",
      "_model_module_version": "1.2.0",
      "_model_name": "LayoutModel",
      "_view_count": null,
      "_view_module": "@jupyter-widgets/base",
      "_view_module_version": "1.2.0",
      "_view_name": "LayoutView",
      "align_content": null,
      "align_items": null,
      "align_self": null,
      "border": null,
      "bottom": null,
      "display": null,
      "flex": null,
      "flex_flow": null,
      "grid_area": null,
      "grid_auto_columns": null,
      "grid_auto_flow": null,
      "grid_auto_rows": null,
      "grid_column": null,
      "grid_gap": null,
      "grid_row": null,
      "grid_template_areas": null,
      "grid_template_columns": null,
      "grid_template_rows": null,
      "height": null,
      "justify_content": null,
      "justify_items": null,
      "left": null,
      "margin": null,
      "max_height": null,
      "max_width": null,
      "min_height": null,
      "min_width": null,
      "object_fit": null,
      "object_position": null,
      "order": null,
      "overflow": null,
      "overflow_x": null,
      "overflow_y": null,
      "padding": null,
      "right": null,
      "top": null,
      "visibility": null,
      "width": null
     }
    },
    "a2964af732d04fd29c141018407c2888": {
     "model_module": "@jupyter-widgets/base",
     "model_name": "LayoutModel",
     "state": {
      "_model_module": "@jupyter-widgets/base",
      "_model_module_version": "1.2.0",
      "_model_name": "LayoutModel",
      "_view_count": null,
      "_view_module": "@jupyter-widgets/base",
      "_view_module_version": "1.2.0",
      "_view_name": "LayoutView",
      "align_content": null,
      "align_items": null,
      "align_self": null,
      "border": null,
      "bottom": null,
      "display": null,
      "flex": null,
      "flex_flow": null,
      "grid_area": null,
      "grid_auto_columns": null,
      "grid_auto_flow": null,
      "grid_auto_rows": null,
      "grid_column": null,
      "grid_gap": null,
      "grid_row": null,
      "grid_template_areas": null,
      "grid_template_columns": null,
      "grid_template_rows": null,
      "height": null,
      "justify_content": null,
      "justify_items": null,
      "left": null,
      "margin": null,
      "max_height": null,
      "max_width": null,
      "min_height": null,
      "min_width": null,
      "object_fit": null,
      "object_position": null,
      "order": null,
      "overflow": null,
      "overflow_x": null,
      "overflow_y": null,
      "padding": null,
      "right": null,
      "top": null,
      "visibility": null,
      "width": null
     }
    },
    "a48703bddf8b4f2b8ac939103c1cf0e0": {
     "model_module": "@jupyter-widgets/controls",
     "model_name": "DropdownModel",
     "state": {
      "_dom_classes": [],
      "_model_module": "@jupyter-widgets/controls",
      "_model_module_version": "1.5.0",
      "_model_name": "DropdownModel",
      "_options_labels": [
       "2019",
       "2020"
      ],
      "_view_count": null,
      "_view_module": "@jupyter-widgets/controls",
      "_view_module_version": "1.5.0",
      "_view_name": "DropdownView",
      "description": "year",
      "description_tooltip": null,
      "disabled": false,
      "index": 0,
      "layout": "IPY_MODEL_5f70d37488ec4950a1055207e847a0a0",
      "style": "IPY_MODEL_3b063ad907a149a1b5385f5d74e4a3a9"
     }
    },
    "a7ad20173a524a33bafdf70088ec3a0c": {
     "model_module": "@jupyter-widgets/controls",
     "model_name": "DropdownModel",
     "state": {
      "_dom_classes": [],
      "_model_module": "@jupyter-widgets/controls",
      "_model_module_version": "1.5.0",
      "_model_name": "DropdownModel",
      "_options_labels": [
       "No. of Passengers",
       "No. of Aircrafts"
      ],
      "_view_count": null,
      "_view_module": "@jupyter-widgets/controls",
      "_view_module_version": "1.5.0",
      "_view_name": "DropdownView",
      "description": "interest",
      "description_tooltip": null,
      "disabled": false,
      "index": 0,
      "layout": "IPY_MODEL_83870ef9c3bc4b7caad66ce21685bbf1",
      "style": "IPY_MODEL_519b5351111a4b32b38ee0a67a944c43"
     }
    },
    "a8f3b3d6737f418e9a3f4e0f2d8e1145": {
     "model_module": "@jupyter-widgets/output",
     "model_name": "OutputModel",
     "state": {
      "_dom_classes": [],
      "_model_module": "@jupyter-widgets/output",
      "_model_module_version": "1.0.0",
      "_model_name": "OutputModel",
      "_view_count": null,
      "_view_module": "@jupyter-widgets/output",
      "_view_module_version": "1.0.0",
      "_view_name": "OutputView",
      "layout": "IPY_MODEL_98d6014406824e69a226775acd580376",
      "msg_id": "",
      "outputs": [
       {
        "metadata": {
         "tags": []
        },
        "output_type": "stream",
        "stream": "stdout",
        "text": "Sample mean: 120.18848833333334\nTrue mean: 120.14333333333336\n\nSample variance: 35.33543938000002\nTrue Variance: 34.92655555555557\n"
       }
      ]
     }
    },
    "aacb4d29467247fe8f78b379588627d2": {
     "model_module": "@jupyter-widgets/controls",
     "model_name": "DropdownModel",
     "state": {
      "_dom_classes": [],
      "_model_module": "@jupyter-widgets/controls",
      "_model_module_version": "1.5.0",
      "_model_name": "DropdownModel",
      "_options_labels": [
       "No. of Passengers",
       "No. of Aircrafts"
      ],
      "_view_count": null,
      "_view_module": "@jupyter-widgets/controls",
      "_view_module_version": "1.5.0",
      "_view_name": "DropdownView",
      "description": "interest",
      "description_tooltip": null,
      "disabled": false,
      "index": 0,
      "layout": "IPY_MODEL_93231538d21543d495b229710f7fbbc0",
      "style": "IPY_MODEL_91fd124b9931441c997734865bb3f2f4"
     }
    },
    "ad47ce5c82fa436d9e5155fc41f085cb": {
     "model_module": "@jupyter-widgets/base",
     "model_name": "LayoutModel",
     "state": {
      "_model_module": "@jupyter-widgets/base",
      "_model_module_version": "1.2.0",
      "_model_name": "LayoutModel",
      "_view_count": null,
      "_view_module": "@jupyter-widgets/base",
      "_view_module_version": "1.2.0",
      "_view_name": "LayoutView",
      "align_content": null,
      "align_items": null,
      "align_self": null,
      "border": null,
      "bottom": null,
      "display": null,
      "flex": null,
      "flex_flow": null,
      "grid_area": null,
      "grid_auto_columns": null,
      "grid_auto_flow": null,
      "grid_auto_rows": null,
      "grid_column": null,
      "grid_gap": null,
      "grid_row": null,
      "grid_template_areas": null,
      "grid_template_columns": null,
      "grid_template_rows": null,
      "height": null,
      "justify_content": null,
      "justify_items": null,
      "left": null,
      "margin": null,
      "max_height": null,
      "max_width": null,
      "min_height": null,
      "min_width": null,
      "object_fit": null,
      "object_position": null,
      "order": null,
      "overflow": null,
      "overflow_x": null,
      "overflow_y": null,
      "padding": null,
      "right": null,
      "top": null,
      "visibility": null,
      "width": null
     }
    },
    "b2384f6fbc31455cb17850fb8ea2b8b1": {
     "model_module": "@jupyter-widgets/controls",
     "model_name": "DescriptionStyleModel",
     "state": {
      "_model_module": "@jupyter-widgets/controls",
      "_model_module_version": "1.5.0",
      "_model_name": "DescriptionStyleModel",
      "_view_count": null,
      "_view_module": "@jupyter-widgets/base",
      "_view_module_version": "1.2.0",
      "_view_name": "StyleView",
      "description_width": ""
     }
    },
    "b798f48f03314ab28965215996ee79d3": {
     "model_module": "@jupyter-widgets/base",
     "model_name": "LayoutModel",
     "state": {
      "_model_module": "@jupyter-widgets/base",
      "_model_module_version": "1.2.0",
      "_model_name": "LayoutModel",
      "_view_count": null,
      "_view_module": "@jupyter-widgets/base",
      "_view_module_version": "1.2.0",
      "_view_name": "LayoutView",
      "align_content": null,
      "align_items": null,
      "align_self": null,
      "border": null,
      "bottom": null,
      "display": null,
      "flex": null,
      "flex_flow": null,
      "grid_area": null,
      "grid_auto_columns": null,
      "grid_auto_flow": null,
      "grid_auto_rows": null,
      "grid_column": null,
      "grid_gap": null,
      "grid_row": null,
      "grid_template_areas": null,
      "grid_template_columns": null,
      "grid_template_rows": null,
      "height": null,
      "justify_content": null,
      "justify_items": null,
      "left": null,
      "margin": null,
      "max_height": null,
      "max_width": null,
      "min_height": null,
      "min_width": null,
      "object_fit": null,
      "object_position": null,
      "order": null,
      "overflow": null,
      "overflow_x": null,
      "overflow_y": null,
      "padding": null,
      "right": null,
      "top": null,
      "visibility": null,
      "width": null
     }
    },
    "bbb56f60e46c4cee87236da25333bce1": {
     "model_module": "@jupyter-widgets/output",
     "model_name": "OutputModel",
     "state": {
      "_dom_classes": [],
      "_model_module": "@jupyter-widgets/output",
      "_model_module_version": "1.0.0",
      "_model_name": "OutputModel",
      "_view_count": null,
      "_view_module": "@jupyter-widgets/output",
      "_view_module_version": "1.0.0",
      "_view_name": "OutputView",
      "layout": "IPY_MODEL_718395d03d9b45f6bfda7bf5e3da5a0e",
      "msg_id": "",
      "outputs": [
       {
        "image/png": "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\n",
        "metadata": {
         "needs_background": "light",
         "tags": []
        },
        "output_type": "display_data",
        "text/plain": "<Figure size 432x288 with 1 Axes>"
       }
      ]
     }
    },
    "bbcf2f9d0d984338a7a044c4bdaab06f": {
     "model_module": "@jupyter-widgets/controls",
     "model_name": "DropdownModel",
     "state": {
      "_dom_classes": [],
      "_model_module": "@jupyter-widgets/controls",
      "_model_module_version": "1.5.0",
      "_model_name": "DropdownModel",
      "_options_labels": [
       "No. of Passengers",
       "No. of Aircrafts"
      ],
      "_view_count": null,
      "_view_module": "@jupyter-widgets/controls",
      "_view_module_version": "1.5.0",
      "_view_name": "DropdownView",
      "description": "interest",
      "description_tooltip": null,
      "disabled": false,
      "index": 0,
      "layout": "IPY_MODEL_16187d62c60a41479329945526afbbd2",
      "style": "IPY_MODEL_7133fce321fc4a5dbd822c6d56d969e3"
     }
    },
    "bd1a2fe9aec849a4a30cbc8e28548df0": {
     "model_module": "@jupyter-widgets/controls",
     "model_name": "DropdownModel",
     "state": {
      "_dom_classes": [],
      "_model_module": "@jupyter-widgets/controls",
      "_model_module_version": "1.5.0",
      "_model_name": "DropdownModel",
      "_options_labels": [
       "No. of Passengers",
       "No. of Aircrafts"
      ],
      "_view_count": null,
      "_view_module": "@jupyter-widgets/controls",
      "_view_module_version": "1.5.0",
      "_view_name": "DropdownView",
      "description": "interest",
      "description_tooltip": null,
      "disabled": false,
      "index": 0,
      "layout": "IPY_MODEL_8afd4bd869624cd59b51a2aae3e24b64",
      "style": "IPY_MODEL_4990910aeed04b06bded8b3aea6b1008"
     }
    },
    "bedbdce688f344e2a41b8f7aec17ade0": {
     "model_module": "@jupyter-widgets/controls",
     "model_name": "SliderStyleModel",
     "state": {
      "_model_module": "@jupyter-widgets/controls",
      "_model_module_version": "1.5.0",
      "_model_name": "SliderStyleModel",
      "_view_count": null,
      "_view_module": "@jupyter-widgets/base",
      "_view_module_version": "1.2.0",
      "_view_name": "StyleView",
      "description_width": "",
      "handle_color": null
     }
    },
    "bf923676c36d484cbe7de6bd075bb753": {
     "model_module": "@jupyter-widgets/controls",
     "model_name": "DropdownModel",
     "state": {
      "_dom_classes": [],
      "_model_module": "@jupyter-widgets/controls",
      "_model_module_version": "1.5.0",
      "_model_name": "DropdownModel",
      "_options_labels": [
       "2019",
       "2020"
      ],
      "_view_count": null,
      "_view_module": "@jupyter-widgets/controls",
      "_view_module_version": "1.5.0",
      "_view_name": "DropdownView",
      "description": "year",
      "description_tooltip": null,
      "disabled": false,
      "index": 0,
      "layout": "IPY_MODEL_89720322eee94101970fb9f70d1aadf0",
      "style": "IPY_MODEL_4d95cd9fb4cd4025918a8847adc05409"
     }
    },
    "c24bc08933ed462cbdda6e784bdb481b": {
     "model_module": "@jupyter-widgets/controls",
     "model_name": "VBoxModel",
     "state": {
      "_dom_classes": [
       "widget-interact"
      ],
      "_model_module": "@jupyter-widgets/controls",
      "_model_module_version": "1.5.0",
      "_model_name": "VBoxModel",
      "_view_count": null,
      "_view_module": "@jupyter-widgets/controls",
      "_view_module_version": "1.5.0",
      "_view_name": "VBoxView",
      "box_style": "",
      "children": [
       "IPY_MODEL_d7fa31555ff44b9d9e813b2c6e341bd5",
       "IPY_MODEL_c82661524b5f47e6addbafee4b4d538f"
      ],
      "layout": "IPY_MODEL_58a689f658e84eb3b7719d1205eddacd"
     }
    },
    "c82661524b5f47e6addbafee4b4d538f": {
     "model_module": "@jupyter-widgets/output",
     "model_name": "OutputModel",
     "state": {
      "_dom_classes": [],
      "_model_module": "@jupyter-widgets/output",
      "_model_module_version": "1.0.0",
      "_model_name": "OutputModel",
      "_view_count": null,
      "_view_module": "@jupyter-widgets/output",
      "_view_module_version": "1.0.0",
      "_view_name": "OutputView",
      "layout": "IPY_MODEL_e295dde7c008424f9f4fa095675bebd2",
      "msg_id": "",
      "outputs": [
       {
        "image/png": "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\n",
        "metadata": {
         "needs_background": "light",
         "tags": []
        },
        "output_type": "display_data",
        "text/plain": "<Figure size 720x720 with 1 Axes>"
       }
      ]
     }
    },
    "d195eda7fed14701a8f171fa5741fa01": {
     "model_module": "@jupyter-widgets/output",
     "model_name": "OutputModel",
     "state": {
      "_dom_classes": [],
      "_model_module": "@jupyter-widgets/output",
      "_model_module_version": "1.0.0",
      "_model_name": "OutputModel",
      "_view_count": null,
      "_view_module": "@jupyter-widgets/output",
      "_view_module_version": "1.0.0",
      "_view_name": "OutputView",
      "layout": "IPY_MODEL_0ac4d235751044a0b6830e07ec976562",
      "msg_id": "",
      "outputs": [
       {
        "image/png": "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\n",
        "metadata": {
         "needs_background": "light",
         "tags": []
        },
        "output_type": "display_data",
        "text/plain": "<Figure size 720x720 with 2 Axes>"
       }
      ]
     }
    },
    "d7fa31555ff44b9d9e813b2c6e341bd5": {
     "model_module": "@jupyter-widgets/controls",
     "model_name": "DropdownModel",
     "state": {
      "_dom_classes": [],
      "_model_module": "@jupyter-widgets/controls",
      "_model_module_version": "1.5.0",
      "_model_name": "DropdownModel",
      "_options_labels": [
       "2019",
       "2020"
      ],
      "_view_count": null,
      "_view_module": "@jupyter-widgets/controls",
      "_view_module_version": "1.5.0",
      "_view_name": "DropdownView",
      "description": "year",
      "description_tooltip": null,
      "disabled": false,
      "index": 1,
      "layout": "IPY_MODEL_3247e8e844694b6e8c2b7800044b4569",
      "style": "IPY_MODEL_296dbedb185f4fd18d3c916e0dde54e3"
     }
    },
    "d82d46bda30a4e2081712ef08f54453e": {
     "model_module": "@jupyter-widgets/controls",
     "model_name": "DescriptionStyleModel",
     "state": {
      "_model_module": "@jupyter-widgets/controls",
      "_model_module_version": "1.5.0",
      "_model_name": "DescriptionStyleModel",
      "_view_count": null,
      "_view_module": "@jupyter-widgets/base",
      "_view_module_version": "1.2.0",
      "_view_name": "StyleView",
      "description_width": ""
     }
    },
    "daff90f23d5e4e3f94053f5ef4547436": {
     "model_module": "@jupyter-widgets/controls",
     "model_name": "DropdownModel",
     "state": {
      "_dom_classes": [],
      "_model_module": "@jupyter-widgets/controls",
      "_model_module_version": "1.5.0",
      "_model_name": "DropdownModel",
      "_options_labels": [
       "2019",
       "2020"
      ],
      "_view_count": null,
      "_view_module": "@jupyter-widgets/controls",
      "_view_module_version": "1.5.0",
      "_view_name": "DropdownView",
      "description": "year",
      "description_tooltip": null,
      "disabled": false,
      "index": 0,
      "layout": "IPY_MODEL_714908cd9b214626a3d6fb9aec4415ab",
      "style": "IPY_MODEL_8531850b10d24b68bb29003e6e346c90"
     }
    },
    "db47340f98c448299251365d5d3f0eb5": {
     "model_module": "@jupyter-widgets/controls",
     "model_name": "DescriptionStyleModel",
     "state": {
      "_model_module": "@jupyter-widgets/controls",
      "_model_module_version": "1.5.0",
      "_model_name": "DescriptionStyleModel",
      "_view_count": null,
      "_view_module": "@jupyter-widgets/base",
      "_view_module_version": "1.2.0",
      "_view_name": "StyleView",
      "description_width": ""
     }
    },
    "e22cf7bb80f84c1192728feb4f472fcb": {
     "model_module": "@jupyter-widgets/base",
     "model_name": "LayoutModel",
     "state": {
      "_model_module": "@jupyter-widgets/base",
      "_model_module_version": "1.2.0",
      "_model_name": "LayoutModel",
      "_view_count": null,
      "_view_module": "@jupyter-widgets/base",
      "_view_module_version": "1.2.0",
      "_view_name": "LayoutView",
      "align_content": null,
      "align_items": null,
      "align_self": null,
      "border": null,
      "bottom": null,
      "display": null,
      "flex": null,
      "flex_flow": null,
      "grid_area": null,
      "grid_auto_columns": null,
      "grid_auto_flow": null,
      "grid_auto_rows": null,
      "grid_column": null,
      "grid_gap": null,
      "grid_row": null,
      "grid_template_areas": null,
      "grid_template_columns": null,
      "grid_template_rows": null,
      "height": null,
      "justify_content": null,
      "justify_items": null,
      "left": null,
      "margin": null,
      "max_height": null,
      "max_width": null,
      "min_height": null,
      "min_width": null,
      "object_fit": null,
      "object_position": null,
      "order": null,
      "overflow": null,
      "overflow_x": null,
      "overflow_y": null,
      "padding": null,
      "right": null,
      "top": null,
      "visibility": null,
      "width": null
     }
    },
    "e295dde7c008424f9f4fa095675bebd2": {
     "model_module": "@jupyter-widgets/base",
     "model_name": "LayoutModel",
     "state": {
      "_model_module": "@jupyter-widgets/base",
      "_model_module_version": "1.2.0",
      "_model_name": "LayoutModel",
      "_view_count": null,
      "_view_module": "@jupyter-widgets/base",
      "_view_module_version": "1.2.0",
      "_view_name": "LayoutView",
      "align_content": null,
      "align_items": null,
      "align_self": null,
      "border": null,
      "bottom": null,
      "display": null,
      "flex": null,
      "flex_flow": null,
      "grid_area": null,
      "grid_auto_columns": null,
      "grid_auto_flow": null,
      "grid_auto_rows": null,
      "grid_column": null,
      "grid_gap": null,
      "grid_row": null,
      "grid_template_areas": null,
      "grid_template_columns": null,
      "grid_template_rows": null,
      "height": null,
      "justify_content": null,
      "justify_items": null,
      "left": null,
      "margin": null,
      "max_height": null,
      "max_width": null,
      "min_height": null,
      "min_width": null,
      "object_fit": null,
      "object_position": null,
      "order": null,
      "overflow": null,
      "overflow_x": null,
      "overflow_y": null,
      "padding": null,
      "right": null,
      "top": null,
      "visibility": null,
      "width": null
     }
    },
    "e4ba4480f2214a8ab19d71a19abe819c": {
     "model_module": "@jupyter-widgets/base",
     "model_name": "LayoutModel",
     "state": {
      "_model_module": "@jupyter-widgets/base",
      "_model_module_version": "1.2.0",
      "_model_name": "LayoutModel",
      "_view_count": null,
      "_view_module": "@jupyter-widgets/base",
      "_view_module_version": "1.2.0",
      "_view_name": "LayoutView",
      "align_content": null,
      "align_items": null,
      "align_self": null,
      "border": null,
      "bottom": null,
      "display": null,
      "flex": null,
      "flex_flow": null,
      "grid_area": null,
      "grid_auto_columns": null,
      "grid_auto_flow": null,
      "grid_auto_rows": null,
      "grid_column": null,
      "grid_gap": null,
      "grid_row": null,
      "grid_template_areas": null,
      "grid_template_columns": null,
      "grid_template_rows": null,
      "height": null,
      "justify_content": null,
      "justify_items": null,
      "left": null,
      "margin": null,
      "max_height": null,
      "max_width": null,
      "min_height": null,
      "min_width": null,
      "object_fit": null,
      "object_position": null,
      "order": null,
      "overflow": null,
      "overflow_x": null,
      "overflow_y": null,
      "padding": null,
      "right": null,
      "top": null,
      "visibility": null,
      "width": null
     }
    },
    "e4cd13027b8a41529fdcc9dd6432ca67": {
     "model_module": "@jupyter-widgets/controls",
     "model_name": "VBoxModel",
     "state": {
      "_dom_classes": [
       "widget-interact"
      ],
      "_model_module": "@jupyter-widgets/controls",
      "_model_module_version": "1.5.0",
      "_model_name": "VBoxModel",
      "_view_count": null,
      "_view_module": "@jupyter-widgets/controls",
      "_view_module_version": "1.5.0",
      "_view_name": "VBoxView",
      "box_style": "",
      "children": [
       "IPY_MODEL_ed28c453ab064f738633461a6b2c691a",
       "IPY_MODEL_bd1a2fe9aec849a4a30cbc8e28548df0",
       "IPY_MODEL_bbb56f60e46c4cee87236da25333bce1"
      ],
      "layout": "IPY_MODEL_59ca56fac3bd4691b991bb04329b5966"
     }
    },
    "e8afed7dfc7245af96ca5acc9185a1a5": {
     "model_module": "@jupyter-widgets/controls",
     "model_name": "VBoxModel",
     "state": {
      "_dom_classes": [
       "widget-interact"
      ],
      "_model_module": "@jupyter-widgets/controls",
      "_model_module_version": "1.5.0",
      "_model_name": "VBoxModel",
      "_view_count": null,
      "_view_module": "@jupyter-widgets/controls",
      "_view_module_version": "1.5.0",
      "_view_name": "VBoxView",
      "box_style": "",
      "children": [
       "IPY_MODEL_a7ad20173a524a33bafdf70088ec3a0c",
       "IPY_MODEL_57e5c406fef04c93812c12fd16a65f02",
       "IPY_MODEL_7d525eaab83e4892be361a5901c1cd92",
       "IPY_MODEL_f97ea7e68a494afb947fa1146e4dd293"
      ],
      "layout": "IPY_MODEL_73b5d748f03a4be7b3a02d3cdf632982"
     }
    },
    "ed28c453ab064f738633461a6b2c691a": {
     "model_module": "@jupyter-widgets/controls",
     "model_name": "DropdownModel",
     "state": {
      "_dom_classes": [],
      "_model_module": "@jupyter-widgets/controls",
      "_model_module_version": "1.5.0",
      "_model_name": "DropdownModel",
      "_options_labels": [
       "2019",
       "2020"
      ],
      "_view_count": null,
      "_view_module": "@jupyter-widgets/controls",
      "_view_module_version": "1.5.0",
      "_view_name": "DropdownView",
      "description": "year",
      "description_tooltip": null,
      "disabled": false,
      "index": 0,
      "layout": "IPY_MODEL_e4ba4480f2214a8ab19d71a19abe819c",
      "style": "IPY_MODEL_d82d46bda30a4e2081712ef08f54453e"
     }
    },
    "eefe0e43ede94d5bb589a40f9efc1f53": {
     "model_module": "@jupyter-widgets/controls",
     "model_name": "VBoxModel",
     "state": {
      "_dom_classes": [
       "widget-interact"
      ],
      "_model_module": "@jupyter-widgets/controls",
      "_model_module_version": "1.5.0",
      "_model_name": "VBoxModel",
      "_view_count": null,
      "_view_module": "@jupyter-widgets/controls",
      "_view_module_version": "1.5.0",
      "_view_name": "VBoxView",
      "box_style": "",
      "children": [
       "IPY_MODEL_2fe7aaa4b71c41588d0990ed854ebd9d",
       "IPY_MODEL_a48703bddf8b4f2b8ac939103c1cf0e0",
       "IPY_MODEL_6fa7709fc80147efad7e23954ba9ccb0"
      ],
      "layout": "IPY_MODEL_b798f48f03314ab28965215996ee79d3"
     }
    },
    "f97ea7e68a494afb947fa1146e4dd293": {
     "model_module": "@jupyter-widgets/output",
     "model_name": "OutputModel",
     "state": {
      "_dom_classes": [],
      "_model_module": "@jupyter-widgets/output",
      "_model_module_version": "1.0.0",
      "_model_name": "OutputModel",
      "_view_count": null,
      "_view_module": "@jupyter-widgets/output",
      "_view_module_version": "1.0.0",
      "_view_name": "OutputView",
      "layout": "IPY_MODEL_e22cf7bb80f84c1192728feb4f472fcb",
      "msg_id": "",
      "outputs": [
       {
        "metadata": {
         "tags": []
        },
        "output_type": "stream",
        "stream": "stdout",
        "text": "95% Confidence Intervals for Sample Mean is 119.27539651181125 - 123.17127015485546\n95% Confidence Intervals for Sample Variance is 5.61509091666668 - 72.5354149166667\n"
       }
      ]
     }
    }
   }
  }
 },
 "nbformat": 4,
 "nbformat_minor": 1
}
